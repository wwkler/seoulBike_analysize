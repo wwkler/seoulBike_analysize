{
 "cells": [
  {
   "cell_type": "markdown",
   "id": "ef575059",
   "metadata": {
    "id": "ef575059"
   },
   "source": [
    "---"
   ]
  },
  {
   "cell_type": "markdown",
   "id": "46fa690c",
   "metadata": {
    "id": "46fa690c"
   },
   "source": [
    "## [미니프로젝트] 서울시 공유자전거 '따릉이'의 수요 예측\n",
    "\n",
    "### 여러분은 서울시 정책 연구원으로서 서울시 공유자전거인 '따릉이'의 수요와 날씨간 연관성을 분석하라는 미션을 부여받았습니다.\n",
    "\n",
    "#### <font color=\"blue\"> 데이터 분석의 주 목적은 가치있는 정보를 찾아내는것!! </font>\n",
    "\n",
    "### ▣ 우리가 풀어야 하는 문제는 무엇인가요?\n",
    "\n",
    " - 어떠한 날씨요소가 따릉이 수요와 관련 있는지 분석하여 인사이트를 도출해봅시다"
   ]
  },
  {
   "cell_type": "markdown",
   "id": "a30cd0cd",
   "metadata": {
    "id": "a30cd0cd"
   },
   "source": [
    "---"
   ]
  },
  {
   "cell_type": "markdown",
   "id": "revolutionary-farmer",
   "metadata": {
    "id": "revolutionary-farmer"
   },
   "source": [
    "## ▣ 데이터 소개\n",
    "[기본 데이터]\n",
    "* 데이터 : sbikedata.csv\n",
    "\n",
    "## ▣ 데이터셋의 변수 소개\n",
    "* date : 날짜\n",
    "* hour : 시간\n",
    "* temperature : 온도\n",
    "* precipitation : 강우 여부, 비가 오지 않았으면 0, 비가 오면 1\n",
    "* windspeed : 풍속(평균)\n",
    "* humidity : 습도\n",
    "* visibility : 시정(視程), 시계(視界)(특정 기상 상태에 따른 가시성을 의미)\n",
    "* ozone : 오존 수치\n",
    "* PM10 : 미세먼지 수치(머리카락 굵기의 1/5에서 1/7 크기의 미세먼지)\n",
    "* PM2.5 : 초미세먼지 수치(머리카락 굵기의 1/20에서 1/30 크기의 미세먼지)\n",
    "* count : 시간에 따른 따릉이 대여 수"
   ]
  },
  {
   "cell_type": "markdown",
   "id": "matched-broad",
   "metadata": {
    "id": "matched-broad"
   },
   "source": [
    "---"
   ]
  },
  {
   "cell_type": "markdown",
   "id": "warming-gentleman",
   "metadata": {
    "id": "warming-gentleman"
   },
   "source": [
    "### [Step1] 환경 설정\n",
    "#### <span style=\"color: green\"> 1) 라이브러리 불러오기 </span>"
   ]
  },
  {
   "cell_type": "code",
   "execution_count": 1,
   "id": "442dc4e3",
   "metadata": {
    "tags": []
   },
   "outputs": [],
   "source": [
    "#EDA에 사용할 라이브러리를 import 하세요\n",
    "import pandas as pd\n",
    "import numpy as np\n",
    "import matplotlib.pyplot as plt\n",
    "import seaborn as sns\n",
    "from scipy import stats\n",
    "\n",
    "# 파이썬 모든 행과 모든 열을 다 볼 수 있게 하는 설정\n",
    "# 모든 행과 열의 최대 표시 설정 변경\n",
    "pd.set_option('display.max_rows', None)\n",
    "pd.set_option('display.max_columns', None)"
   ]
  },
  {
   "cell_type": "markdown",
   "id": "vocational-animal",
   "metadata": {
    "id": "vocational-animal"
   },
   "source": [
    "#### <span style=\"color: green\"> 2) 활용할 데이터 불러오기 </span>"
   ]
  },
  {
   "cell_type": "code",
   "execution_count": 2,
   "id": "saving-slope",
   "metadata": {
    "executionInfo": {
     "elapsed": 305,
     "status": "ok",
     "timestamp": 1655797696108,
     "user": {
      "displayName": "Seonil Kwon",
      "userId": "10539738350691841262"
     },
     "user_tz": -540
    },
    "id": "saving-slope",
    "tags": []
   },
   "outputs": [
    {
     "data": {
      "text/html": [
       "<div>\n",
       "<style scoped>\n",
       "    .dataframe tbody tr th:only-of-type {\n",
       "        vertical-align: middle;\n",
       "    }\n",
       "\n",
       "    .dataframe tbody tr th {\n",
       "        vertical-align: top;\n",
       "    }\n",
       "\n",
       "    .dataframe thead th {\n",
       "        text-align: right;\n",
       "    }\n",
       "</style>\n",
       "<table border=\"1\" class=\"dataframe\">\n",
       "  <thead>\n",
       "    <tr style=\"text-align: right;\">\n",
       "      <th></th>\n",
       "      <th>date</th>\n",
       "      <th>hour</th>\n",
       "      <th>PM10</th>\n",
       "      <th>PM2.5</th>\n",
       "      <th>ozone</th>\n",
       "      <th>temperature</th>\n",
       "      <th>precipitation</th>\n",
       "      <th>windspeed</th>\n",
       "      <th>humidity</th>\n",
       "      <th>visibility</th>\n",
       "      <th>count</th>\n",
       "    </tr>\n",
       "  </thead>\n",
       "  <tbody>\n",
       "    <tr>\n",
       "      <th>0</th>\n",
       "      <td>2021-04-01</td>\n",
       "      <td>1</td>\n",
       "      <td>42.0</td>\n",
       "      <td>21.0</td>\n",
       "      <td>0.002</td>\n",
       "      <td>13.1</td>\n",
       "      <td>0</td>\n",
       "      <td>1.4</td>\n",
       "      <td>49</td>\n",
       "      <td>2000</td>\n",
       "      <td>46</td>\n",
       "    </tr>\n",
       "    <tr>\n",
       "      <th>1</th>\n",
       "      <td>2021-04-01</td>\n",
       "      <td>2</td>\n",
       "      <td>41.0</td>\n",
       "      <td>21.0</td>\n",
       "      <td>0.003</td>\n",
       "      <td>12.4</td>\n",
       "      <td>0</td>\n",
       "      <td>2.1</td>\n",
       "      <td>53</td>\n",
       "      <td>2000</td>\n",
       "      <td>40</td>\n",
       "    </tr>\n",
       "    <tr>\n",
       "      <th>2</th>\n",
       "      <td>2021-04-01</td>\n",
       "      <td>3</td>\n",
       "      <td>30.0</td>\n",
       "      <td>13.0</td>\n",
       "      <td>0.023</td>\n",
       "      <td>13.1</td>\n",
       "      <td>0</td>\n",
       "      <td>3.4</td>\n",
       "      <td>43</td>\n",
       "      <td>2000</td>\n",
       "      <td>31</td>\n",
       "    </tr>\n",
       "    <tr>\n",
       "      <th>3</th>\n",
       "      <td>2021-04-01</td>\n",
       "      <td>4</td>\n",
       "      <td>27.0</td>\n",
       "      <td>12.0</td>\n",
       "      <td>0.028</td>\n",
       "      <td>13.0</td>\n",
       "      <td>0</td>\n",
       "      <td>3.1</td>\n",
       "      <td>44</td>\n",
       "      <td>2000</td>\n",
       "      <td>12</td>\n",
       "    </tr>\n",
       "    <tr>\n",
       "      <th>4</th>\n",
       "      <td>2021-04-01</td>\n",
       "      <td>5</td>\n",
       "      <td>29.0</td>\n",
       "      <td>14.0</td>\n",
       "      <td>0.008</td>\n",
       "      <td>13.0</td>\n",
       "      <td>0</td>\n",
       "      <td>2.9</td>\n",
       "      <td>44</td>\n",
       "      <td>2000</td>\n",
       "      <td>30</td>\n",
       "    </tr>\n",
       "  </tbody>\n",
       "</table>\n",
       "</div>"
      ],
      "text/plain": [
       "         date  hour  PM10  PM2.5  ozone  temperature  precipitation  \\\n",
       "0  2021-04-01     1  42.0   21.0  0.002         13.1              0   \n",
       "1  2021-04-01     2  41.0   21.0  0.003         12.4              0   \n",
       "2  2021-04-01     3  30.0   13.0  0.023         13.1              0   \n",
       "3  2021-04-01     4  27.0   12.0  0.028         13.0              0   \n",
       "4  2021-04-01     5  29.0   14.0  0.008         13.0              0   \n",
       "\n",
       "   windspeed  humidity  visibility  count  \n",
       "0        1.4        49        2000     46  \n",
       "1        2.1        53        2000     40  \n",
       "2        3.4        43        2000     31  \n",
       "3        3.1        44        2000     12  \n",
       "4        2.9        44        2000     30  "
      ]
     },
     "metadata": {},
     "output_type": "display_data"
    },
    {
     "data": {
      "text/html": [
       "<div>\n",
       "<style scoped>\n",
       "    .dataframe tbody tr th:only-of-type {\n",
       "        vertical-align: middle;\n",
       "    }\n",
       "\n",
       "    .dataframe tbody tr th {\n",
       "        vertical-align: top;\n",
       "    }\n",
       "\n",
       "    .dataframe thead th {\n",
       "        text-align: right;\n",
       "    }\n",
       "</style>\n",
       "<table border=\"1\" class=\"dataframe\">\n",
       "  <thead>\n",
       "    <tr style=\"text-align: right;\">\n",
       "      <th></th>\n",
       "      <th>date</th>\n",
       "      <th>hour</th>\n",
       "      <th>PM10</th>\n",
       "      <th>PM2.5</th>\n",
       "      <th>ozone</th>\n",
       "      <th>temperature</th>\n",
       "      <th>precipitation</th>\n",
       "      <th>windspeed</th>\n",
       "      <th>humidity</th>\n",
       "      <th>visibility</th>\n",
       "      <th>count</th>\n",
       "    </tr>\n",
       "  </thead>\n",
       "  <tbody>\n",
       "    <tr>\n",
       "      <th>5822</th>\n",
       "      <td>2021-11-29</td>\n",
       "      <td>20</td>\n",
       "      <td>74.0</td>\n",
       "      <td>58.0</td>\n",
       "      <td>0.002</td>\n",
       "      <td>9.3</td>\n",
       "      <td>0</td>\n",
       "      <td>0.3</td>\n",
       "      <td>66</td>\n",
       "      <td>1193</td>\n",
       "      <td>273</td>\n",
       "    </tr>\n",
       "    <tr>\n",
       "      <th>5823</th>\n",
       "      <td>2021-11-29</td>\n",
       "      <td>21</td>\n",
       "      <td>65.0</td>\n",
       "      <td>56.0</td>\n",
       "      <td>0.002</td>\n",
       "      <td>8.4</td>\n",
       "      <td>0</td>\n",
       "      <td>2.0</td>\n",
       "      <td>70</td>\n",
       "      <td>1233</td>\n",
       "      <td>228</td>\n",
       "    </tr>\n",
       "    <tr>\n",
       "      <th>5824</th>\n",
       "      <td>2021-11-29</td>\n",
       "      <td>22</td>\n",
       "      <td>51.0</td>\n",
       "      <td>41.0</td>\n",
       "      <td>0.002</td>\n",
       "      <td>8.6</td>\n",
       "      <td>0</td>\n",
       "      <td>1.9</td>\n",
       "      <td>70</td>\n",
       "      <td>1250</td>\n",
       "      <td>215</td>\n",
       "    </tr>\n",
       "    <tr>\n",
       "      <th>5825</th>\n",
       "      <td>2021-11-29</td>\n",
       "      <td>23</td>\n",
       "      <td>43.0</td>\n",
       "      <td>35.0</td>\n",
       "      <td>0.001</td>\n",
       "      <td>8.2</td>\n",
       "      <td>0</td>\n",
       "      <td>2.1</td>\n",
       "      <td>71</td>\n",
       "      <td>1262</td>\n",
       "      <td>125</td>\n",
       "    </tr>\n",
       "    <tr>\n",
       "      <th>5826</th>\n",
       "      <td>2021-11-30</td>\n",
       "      <td>0</td>\n",
       "      <td>39.0</td>\n",
       "      <td>31.0</td>\n",
       "      <td>0.004</td>\n",
       "      <td>7.9</td>\n",
       "      <td>0</td>\n",
       "      <td>2.3</td>\n",
       "      <td>71</td>\n",
       "      <td>1483</td>\n",
       "      <td>95</td>\n",
       "    </tr>\n",
       "  </tbody>\n",
       "</table>\n",
       "</div>"
      ],
      "text/plain": [
       "            date  hour  PM10  PM2.5  ozone  temperature  precipitation  \\\n",
       "5822  2021-11-29    20  74.0   58.0  0.002          9.3              0   \n",
       "5823  2021-11-29    21  65.0   56.0  0.002          8.4              0   \n",
       "5824  2021-11-29    22  51.0   41.0  0.002          8.6              0   \n",
       "5825  2021-11-29    23  43.0   35.0  0.001          8.2              0   \n",
       "5826  2021-11-30     0  39.0   31.0  0.004          7.9              0   \n",
       "\n",
       "      windspeed  humidity  visibility  count  \n",
       "5822        0.3        66        1193    273  \n",
       "5823        2.0        70        1233    228  \n",
       "5824        1.9        70        1250    215  \n",
       "5825        2.1        71        1262    125  \n",
       "5826        2.3        71        1483     95  "
      ]
     },
     "metadata": {},
     "output_type": "display_data"
    }
   ],
   "source": [
    "#이번 프로젝트에서 분석할 데이터를 불러오세요\n",
    "df = pd.read_csv('sbikedata.csv')\n",
    "display(df.head())\n",
    "display(df.tail())\n"
   ]
  },
  {
   "cell_type": "markdown",
   "id": "575b2637",
   "metadata": {},
   "source": [
    "### [Step2] 가설설정\n",
    "#### '가설' 이란 단어를 생각해보면, 우리가 직접 가설을 만들어야 할것 같지만 통계에서 분석기법별 귀무가설/대립가설은 정해져있습니다.\n",
    "- 귀무가설은 차이가 없다, 연관성이 없다, 효과가 없다.\n",
    "- 대립가설은 차이가 있다, 연관성이 있다, 효과가 있다. 라고 간단하게 이해하시면 좋습니다.\n",
    "\n",
    "#### 간단한 예로, 온도와 따릉이 대여량간 가설을 수립 해본다면\n",
    "\n",
    "    - 귀무가설 : 온도와 따릉이 간에는 연관성이 없다.\n",
    "    - 대립가설 : 온도와 따릉이 간에는 연관성이 있다.\n",
    "\n",
    "로 가설이 자연스레 수립 됩니다.\n",
    "\n",
    "\n",
    "\n",
    "---\n",
    "\n",
    "\n",
    "#### <span style=\"color: green\"> 5개 이상의 Feature와 따릉이 대여량 간 가설을 수립해주세요. </span>\n",
    "\n",
    "##### Guide : Target은 따릉이 대여량 입니다."
   ]
  },
  {
   "cell_type": "markdown",
   "id": "3d1b7293",
   "metadata": {
    "tags": []
   },
   "source": [
    "#### 가설 1 : 날짜(date)가 자전저 대여량(count)과 연관이 있는가?\n",
    "               - 어떠한 달이 자전거 대여량이 높은가?\n",
    "                  -> 4월, 6월, 9월, 10월이 자전거 대여량 합 평균이 높은 것으로 집계된다.\n",
    "                  \n",
    "               - 날짜(date)를 월요일, 화요일, 수요일, 목요일, 금요일, 토요일, 일요일로 분류하여 어떠한 요일에 자전거 대여량이 많은가?\n",
    "                   -> 수요일, 목요일, 금요일이 자전거 대여량 합 평균이 높은 것으로 집계된다.\n",
    "\n",
    "#### 가설 2 : 시간대(date)가 자전거 대여량(count)와 연관이 있는가?\n",
    "               - 시간대(date)를  새벽(ex. 0 <= < 6), 아침(ex. 6 <= < 9), 오전 (ex. 9 <= < 12), 점심 (ex. 12 <= < 14), 오후(ex. 14 <= < 18), \n",
    "               저녁 (ex. 18 <= < 22), 밤 (ex. 22 <=  < 24)으로 구분하여 어떠한 시간대가 자전거 대여량이 높은가?\n",
    "                   -> 오후, 저녁 시간대 (14시 ~ 21시)에 자전거 대여량이 많은 것을 알 수 있다.\n",
    "\n",
    "#### 가설 3 : 미세먼지(PM10)이 자전거 대여량(count)와 연관이 있는가?\n",
    "              - 미세먼지(PM10)을 좋음 (0 <= < 31), 보통 (31 <=  < 81), 나쁨 (81 <=  < 151), 매우 나쁨 (151 <=  < 250), 위험 (250 <= < 828)으로 분류하여\n",
    "                 -> 미세먼지 보통(31 ~ 80)일 떄 자전거 대여량이 높았다.\n",
    "                 \n",
    "#### 가설 4 : 온도(temperature)가 자전거 대여량(count)와 연관이 있는가?\n",
    "              - 온도를  쌀쌀한 날씨: (-3.5 <= < 0), 서늘한 날씨(0 <= < 10), 따뜻한 날씨: (10 <= < 25), 더운 날씨: (25 <= < 30), \n",
    "                        매우 더운 날씨: (30 <= < 36.4)로 분류하여 온도가 어떠한 겨울에 자전거 대여량이 높은지 확인한다.\n",
    "                -> 더운 날씨, 매우 더운 날씨 (25 ~ 36.4)에서 자전거 대여량이 높은 것을 알 수 있다.\n",
    "\n",
    "####  가설 5 : 강우 여부(precipitation)가 자전거 대여량(count)와 연관이 있는가?\n",
    "               -> 강우 여부와 자전거 대여량은 강한 연관을 가지며\n",
    "                  비가 내리지 않을 떄 자전거 대여량은 높은 것을 알 수 있다.\n",
    "\n",
    "\n",
    "\n",
    "####  가설 6 : 풍속(windspeed)가 자전거 대여량(count)와 연관이 있는가?\n",
    "           - 풍속을 바람 없음(0 <= < 0.3), 약한 바람: (0.3 <= < 3.3), \n",
    "             약간 강한 바람: (3.4 <= < 8.0), 강한 바람: (8.0 <= < 10.0)으로 분류하여 \n",
    "             어떠한 풍속일 떄 자전거 대여량이 높은지 확인한다.\n",
    "             -> 약한 강한 바람(3.4 ~ 7.9)일 떄 자전거 대여량이 평균적으로 높다.\n",
    "             \n",
    "#### 가설 7 : 습도(humidity)가 자전거 대여량(count)와 연관이 있는가?\n",
    "           - 습도(humidity) 건조: (19 <=  < 41), 보통: (41 <=  < 60), 습함: (61 <= < 80), 매우 습함: (81 <= < 101)으로 분류하여\n",
    "            어떠한 습도일 떄 자전거 대여량이 높은지 확인한다"
   ]
  },
  {
   "cell_type": "markdown",
   "id": "68202f34",
   "metadata": {},
   "source": [
    "### [Step3] 단변량 분석\n",
    "\n",
    "단변량 분석은 데이터분석의 매우 기초적인 분석기법으로, 독립적인 개별 변수가 가지고있는 특성들을 이해하는 과정입니다.\n",
    "\n",
    "<span style=\"color: green\"> 개별 변수에 대해 아래 사항들을 분석해보세요. </span>\n",
    "\n",
    "1. 변수가 내포하고 있는 의미\n",
    "2. 변수가 수치형인지, 범주형인지\n",
    "3. 결측치 존재 여부 및 조치 방안\n",
    "4. 기초 통계량 확인\n",
    "5. 데이터 분포 확인\n",
    "6. 위 정보로부터 파악한 내용 정리\n",
    "7. 추가 분석사항 도출"
   ]
  },
  {
   "cell_type": "markdown",
   "id": "e3fe59cc",
   "metadata": {},
   "source": [
    "### Feature1 : hour"
   ]
  },
  {
   "cell_type": "markdown",
   "id": "74305cdf",
   "metadata": {},
   "source": [
    "1. 변수가 내포하고 있는 의미"
   ]
  },
  {
   "cell_type": "markdown",
   "id": "7808070b",
   "metadata": {},
   "source": [
    "- 변수의 의미를 한번 짚고 넘어갑시다.\n",
    "hour 변수는 어떤 의미를 가지고 있나요?"
   ]
  },
  {
   "cell_type": "markdown",
   "id": "f5598656",
   "metadata": {},
   "source": [
    "2. 변수가 수치형인지 범주형인지\n"
   ]
  },
  {
   "cell_type": "code",
   "execution_count": 4,
   "id": "e32a046b",
   "metadata": {
    "tags": []
   },
   "outputs": [
    {
     "data": {
      "text/plain": [
       "dtype('int64')"
      ]
     },
     "execution_count": 4,
     "metadata": {},
     "output_type": "execute_result"
    }
   ],
   "source": [
    "#변수의 자료형을 확인해보세요.\n",
    "df[\"hour\"].dtype"
   ]
  },
  {
   "cell_type": "markdown",
   "id": "4812a02e",
   "metadata": {},
   "source": [
    "* 시간대를 나타내는 hour은 수치형이다.\n",
    "* 자료형은 int"
   ]
  },
  {
   "cell_type": "markdown",
   "id": "52aeba21",
   "metadata": {},
   "source": [
    "3. 변수의 결측치 존재 여부 및 조치방안"
   ]
  },
  {
   "cell_type": "code",
   "execution_count": 5,
   "id": "526c0c27",
   "metadata": {},
   "outputs": [],
   "source": [
    "#변수의 결측치 존재 여부를 확인하고, 만약 결측치가 존재하면 어떻게 처리할지 고민해보세요. "
   ]
  },
  {
   "cell_type": "markdown",
   "id": "4b220fa2",
   "metadata": {},
   "source": []
  },
  {
   "cell_type": "markdown",
   "id": "2d9760fd",
   "metadata": {},
   "source": [
    "4. 변수의 기초 통계량 확인"
   ]
  },
  {
   "cell_type": "code",
   "execution_count": 6,
   "id": "3ba272ed",
   "metadata": {},
   "outputs": [],
   "source": [
    "#변수의 기초 통계량을 확인해보세요."
   ]
  },
  {
   "cell_type": "markdown",
   "id": "41b9c5e4",
   "metadata": {},
   "source": []
  },
  {
   "cell_type": "markdown",
   "id": "4eb1b708",
   "metadata": {},
   "source": [
    "5. 변수의 분포 확인"
   ]
  },
  {
   "cell_type": "code",
   "execution_count": 7,
   "id": "8449daa6",
   "metadata": {
    "tags": []
   },
   "outputs": [
    {
     "data": {
      "image/png": "[encoded data removed]",
      "text/plain": [
       "<Figure size 640x480 with 1 Axes>"
      ]
     },
     "metadata": {},
     "output_type": "display_data"
    }
   ],
   "source": [
    "#변수의 분포를 확인해보세요.\n",
    "sns.histplot(x=df[\"hour\"], bins=24)\n",
    "plt.show()"
   ]
  },
  {
   "cell_type": "markdown",
   "id": "6efa8ae0",
   "metadata": {},
   "source": []
  },
  {
   "cell_type": "markdown",
   "id": "314284e2",
   "metadata": {},
   "source": [
    "6. 위 정보로 부터 파악한 내용 정리"
   ]
  },
  {
   "cell_type": "code",
   "execution_count": 8,
   "id": "55bb2a25",
   "metadata": {},
   "outputs": [],
   "source": [
    "#위 정보로부터 파악하신 내용을 정리해보세요."
   ]
  },
  {
   "cell_type": "markdown",
   "id": "a1cf88f9",
   "metadata": {},
   "source": []
  },
  {
   "cell_type": "markdown",
   "id": "5341f7c2",
   "metadata": {},
   "source": [
    "7. 추가 분석사항 도출"
   ]
  },
  {
   "cell_type": "code",
   "execution_count": 9,
   "id": "ebd1fd48",
   "metadata": {},
   "outputs": [],
   "source": [
    "#추가로 분석을 원하는 부분이 있다면 분석후 정리해보세요."
   ]
  },
  {
   "cell_type": "markdown",
   "id": "36924858",
   "metadata": {},
   "source": []
  },
  {
   "cell_type": "markdown",
   "id": "a3ce1e2a",
   "metadata": {},
   "source": [
    "### Feature2 : temperature"
   ]
  },
  {
   "cell_type": "markdown",
   "id": "3a73d53a",
   "metadata": {},
   "source": [
    "1. 변수가 내포하고 있는 의미\n",
    "- 변수의 의미를 한번 짚고 넘어갑시다. 여러분이 생각하는 이 변수의 의미를 작성해보세요."
   ]
  },
  {
   "cell_type": "markdown",
   "id": "3d054811",
   "metadata": {},
   "source": []
  },
  {
   "cell_type": "markdown",
   "id": "82cde493",
   "metadata": {},
   "source": [
    "2. 변수가 수치형인지 범주형인지\n"
   ]
  },
  {
   "cell_type": "code",
   "execution_count": 10,
   "id": "0b9a8768",
   "metadata": {
    "tags": []
   },
   "outputs": [
    {
     "data": {
      "text/plain": [
       "dtype('float64')"
      ]
     },
     "execution_count": 10,
     "metadata": {},
     "output_type": "execute_result"
    }
   ],
   "source": [
    "#변수의 자료형을 확인해보세요.\n",
    "df[\"temperature\"].dtype"
   ]
  },
  {
   "cell_type": "markdown",
   "id": "e9153121",
   "metadata": {},
   "source": [
    "* 온도(temperature)는 수치형이고\n",
    "* 자료형은 float이다."
   ]
  },
  {
   "cell_type": "markdown",
   "id": "a48fe1aa",
   "metadata": {},
   "source": [
    "3. 변수의 결측치 존재 여부 및 조치방안"
   ]
  },
  {
   "cell_type": "code",
   "execution_count": 11,
   "id": "66a14e06",
   "metadata": {
    "tags": []
   },
   "outputs": [
    {
     "data": {
      "text/plain": [
       "0"
      ]
     },
     "execution_count": 11,
     "metadata": {},
     "output_type": "execute_result"
    }
   ],
   "source": [
    "#변수의 결측치 존재 여부를 확인하고, 만약 결측치가 존재하면 어떻게 처리할지 고민해보세요. \n",
    "df[\"temperature\"].isna().sum()"
   ]
  },
  {
   "cell_type": "markdown",
   "id": "a73d5253",
   "metadata": {},
   "source": []
  },
  {
   "cell_type": "markdown",
   "id": "36697681",
   "metadata": {},
   "source": [
    "4. 변수의 기초 통계량 확인"
   ]
  },
  {
   "cell_type": "code",
   "execution_count": 12,
   "id": "56408f6b",
   "metadata": {},
   "outputs": [],
   "source": [
    "#변수의 기초 통계량을 확인해보세요"
   ]
  },
  {
   "cell_type": "markdown",
   "id": "60baf4b1",
   "metadata": {},
   "source": []
  },
  {
   "cell_type": "markdown",
   "id": "a8387cb3",
   "metadata": {},
   "source": [
    "5. 변수의 분포 확인"
   ]
  },
  {
   "cell_type": "code",
   "execution_count": 13,
   "id": "40b20310",
   "metadata": {
    "tags": []
   },
   "outputs": [
    {
     "data": {
      "image/png": "[encoded data removed]",
      "text/plain": [
       "<Figure size 640x480 with 1 Axes>"
      ]
     },
     "metadata": {},
     "output_type": "display_data"
    }
   ],
   "source": [
    "#변수의 분포를 확인해보세요.\n",
    "sns.histplot(x=df[\"temperature\"], bins=8, kde=True, color=\"purple\")\n",
    "plt.show()"
   ]
  },
  {
   "cell_type": "markdown",
   "id": "1c384cc6",
   "metadata": {},
   "source": []
  },
  {
   "cell_type": "markdown",
   "id": "681dae97",
   "metadata": {},
   "source": [
    "6. 위 정보로 부터 파악한 내용 정리"
   ]
  },
  {
   "cell_type": "code",
   "execution_count": 14,
   "id": "87cbee77",
   "metadata": {},
   "outputs": [],
   "source": [
    "#위 정보로부터 파악하신 내용을 정리해보세요."
   ]
  },
  {
   "cell_type": "markdown",
   "id": "bbdf8f0b",
   "metadata": {},
   "source": [
    "* 약 16도에서 26도의 온도 데이터가 많다.\n",
    "* 즉 따듯한 온도의 데이터가 많은 것을 알 수 있다."
   ]
  },
  {
   "cell_type": "markdown",
   "id": "97648c19",
   "metadata": {},
   "source": [
    "7. 추가 분석사항 도출"
   ]
  },
  {
   "cell_type": "code",
   "execution_count": 15,
   "id": "c35c7046",
   "metadata": {},
   "outputs": [],
   "source": [
    "#추가로 분석을 원하는 부분이 있다면 분석후 정리해보세요."
   ]
  },
  {
   "cell_type": "markdown",
   "id": "2adc7c61",
   "metadata": {},
   "source": []
  },
  {
   "cell_type": "markdown",
   "id": "d28e0cb7",
   "metadata": {},
   "source": [
    "### Feature3 : precipitation"
   ]
  },
  {
   "cell_type": "markdown",
   "id": "1be9f4dd",
   "metadata": {},
   "source": [
    "1. 변수가 내포하고 있는 의미\n",
    "- 변수의 의미를 한번 짚고 넘어갑시다. 여러분이 생각하는 이 변수의 의미를 작성해보세요."
   ]
  },
  {
   "cell_type": "markdown",
   "id": "3ac8185e",
   "metadata": {},
   "source": []
  },
  {
   "cell_type": "markdown",
   "id": "a0f8d1a4",
   "metadata": {},
   "source": [
    "2. 변수가 수치형인지 범주형인지\n"
   ]
  },
  {
   "cell_type": "code",
   "execution_count": 16,
   "id": "b5d72660",
   "metadata": {
    "tags": []
   },
   "outputs": [
    {
     "data": {
      "text/plain": [
       "dtype('int64')"
      ]
     },
     "execution_count": 16,
     "metadata": {},
     "output_type": "execute_result"
    }
   ],
   "source": [
    "#변수의 자료형을 확인해보세요.\n",
    "df[\"precipitation\"].dtype"
   ]
  },
  {
   "cell_type": "markdown",
   "id": "49e52d3d",
   "metadata": {},
   "source": [
    "* 강우 여부를 나타내는 'precipitaion'은 범주형이고\n",
    "* 자료형은 int이다."
   ]
  },
  {
   "cell_type": "markdown",
   "id": "89ee2619",
   "metadata": {},
   "source": [
    "3. 변수의 결측치 존재 여부 및 조치방안"
   ]
  },
  {
   "cell_type": "code",
   "execution_count": 17,
   "id": "f3341f5f",
   "metadata": {
    "tags": []
   },
   "outputs": [
    {
     "data": {
      "text/plain": [
       "0"
      ]
     },
     "execution_count": 17,
     "metadata": {},
     "output_type": "execute_result"
    }
   ],
   "source": [
    "#변수의 결측치 존재 여부를 확인하고, 만약 결측치가 존재하면 어떻게 처리할지 고민해보세요. \n",
    "df[\"precipitation\"].isna().sum()"
   ]
  },
  {
   "cell_type": "markdown",
   "id": "1d823b8f",
   "metadata": {},
   "source": [
    "4. 변수의 기초 통계량 확인"
   ]
  },
  {
   "cell_type": "code",
   "execution_count": 18,
   "id": "7a83b635",
   "metadata": {},
   "outputs": [],
   "source": [
    "#변수의 기초 통계량을 확인해보세요"
   ]
  },
  {
   "cell_type": "markdown",
   "id": "f4aa4db0",
   "metadata": {},
   "source": []
  },
  {
   "cell_type": "markdown",
   "id": "6e09338b",
   "metadata": {},
   "source": [
    "5. 변수의 분포 확인"
   ]
  },
  {
   "cell_type": "code",
   "execution_count": 19,
   "id": "8a797f8b",
   "metadata": {
    "tags": []
   },
   "outputs": [
    {
     "data": {
      "image/png": "[encoded data removed]",
      "text/plain": [
       "<Figure size 640x480 with 1 Axes>"
      ]
     },
     "metadata": {},
     "output_type": "display_data"
    }
   ],
   "source": [
    "#변수의 분포를 확인해보세요.\n",
    "sns.countplot(x=df[\"precipitation\"], width=0.2, color=\"purple\")\n",
    "plt.show()"
   ]
  },
  {
   "cell_type": "code",
   "execution_count": 20,
   "id": "0b95c437-f500-43b9-be39-738c6d2bc312",
   "metadata": {
    "tags": []
   },
   "outputs": [
    {
     "data": {
      "text/plain": [
       "92.44894456838854"
      ]
     },
     "metadata": {},
     "output_type": "display_data"
    },
    {
     "data": {
      "text/plain": [
       "7.551055431611465"
      ]
     },
     "metadata": {},
     "output_type": "display_data"
    }
   ],
   "source": [
    "# 전체 데이터\n",
    "row = df.shape[0]\n",
    "\n",
    "# 비가 오지 않는 데이터 건수(확률)\n",
    "precipitaion_0 = df.loc[df[\"precipitation\"] == 0].shape[0]\n",
    "display(precipitaion_0 / row * 100)\n",
    "\n",
    "# 비가 오는 데이터 건수(확률)\n",
    "precipitaion_1 = df.loc[df[\"precipitation\"] == 1].shape[0]\n",
    "display(precipitaion_1 / row * 100)\n"
   ]
  },
  {
   "cell_type": "markdown",
   "id": "f2a5a513",
   "metadata": {},
   "source": [
    "6. 위 정보로 부터 파악한 내용 정리"
   ]
  },
  {
   "cell_type": "code",
   "execution_count": 21,
   "id": "5756a9a5",
   "metadata": {},
   "outputs": [],
   "source": [
    "#위 정보로부터 파악하신 내용을 정리해보세요."
   ]
  },
  {
   "cell_type": "markdown",
   "id": "c4bd044f",
   "metadata": {},
   "source": [
    "* 전체 데이터 5827개 중에 약 92퍼는 비가 오지 않는 데이터, 나머지 약 8퍼는 비가 오는 데이터로 구성되어 있는 것을 알 수 있다."
   ]
  },
  {
   "cell_type": "markdown",
   "id": "5fdd6ac8",
   "metadata": {},
   "source": [
    "7. 추가 분석사항 도출"
   ]
  },
  {
   "cell_type": "code",
   "execution_count": 22,
   "id": "fe0476e1",
   "metadata": {},
   "outputs": [],
   "source": [
    "#추가로 분석을 원하는 부분이 있다면 분석후 정리해보세요."
   ]
  },
  {
   "cell_type": "markdown",
   "id": "b577e015",
   "metadata": {},
   "source": []
  },
  {
   "cell_type": "markdown",
   "id": "c559e931",
   "metadata": {},
   "source": [
    "### Feature4 : windspeed"
   ]
  },
  {
   "cell_type": "markdown",
   "id": "00c6ba75",
   "metadata": {},
   "source": [
    "1. 변수가 내포하고 있는 의미\n",
    "- 변수의 의미를 한번 짚고 넘어갑시다. 여러분이 생각하는 이 변수의 의미를 작성해보세요."
   ]
  },
  {
   "cell_type": "markdown",
   "id": "6b4ff282",
   "metadata": {},
   "source": [
    "2. 변수가 수치형인지 범주형인지\n"
   ]
  },
  {
   "cell_type": "code",
   "execution_count": 23,
   "id": "fe2c6825",
   "metadata": {
    "tags": []
   },
   "outputs": [
    {
     "data": {
      "text/plain": [
       "dtype('float64')"
      ]
     },
     "execution_count": 23,
     "metadata": {},
     "output_type": "execute_result"
    }
   ],
   "source": [
    "#변수의 자료형을 확인해보세요.\n",
    "df[\"windspeed\"].dtype"
   ]
  },
  {
   "cell_type": "markdown",
   "id": "b64f2139",
   "metadata": {},
   "source": [
    "* 풍속(windspeed)은 수치형이고\n",
    "* 자료형은 float이다."
   ]
  },
  {
   "cell_type": "markdown",
   "id": "c768b6a3",
   "metadata": {},
   "source": [
    "3. 변수의 결측치 존재 여부 및 조치방안"
   ]
  },
  {
   "cell_type": "code",
   "execution_count": 24,
   "id": "7749abc8",
   "metadata": {
    "tags": []
   },
   "outputs": [
    {
     "data": {
      "text/plain": [
       "0"
      ]
     },
     "execution_count": 24,
     "metadata": {},
     "output_type": "execute_result"
    }
   ],
   "source": [
    "#변수의 결측치 존재 여부를 확인하고, 만약 결측치가 존재하면 어떻게 처리할지 고민해보세요. \n",
    "df[\"windspeed\"].isna().sum()"
   ]
  },
  {
   "cell_type": "markdown",
   "id": "efd6be52",
   "metadata": {},
   "source": []
  },
  {
   "cell_type": "markdown",
   "id": "260a1ea3",
   "metadata": {},
   "source": [
    "4. 변수의 기초 통계량 확인"
   ]
  },
  {
   "cell_type": "code",
   "execution_count": 25,
   "id": "f2b82f72",
   "metadata": {
    "tags": []
   },
   "outputs": [],
   "source": [
    "#변수의 기초 통계량을 확인해보세요"
   ]
  },
  {
   "cell_type": "markdown",
   "id": "1bfd124a",
   "metadata": {},
   "source": []
  },
  {
   "cell_type": "markdown",
   "id": "1dfc7b9b",
   "metadata": {},
   "source": [
    "5. 변수의 분포 확인"
   ]
  },
  {
   "cell_type": "code",
   "execution_count": 26,
   "id": "44357aea",
   "metadata": {
    "tags": []
   },
   "outputs": [
    {
     "data": {
      "image/png": "[encoded data removed]",
      "text/plain": [
       "<Figure size 640x480 with 1 Axes>"
      ]
     },
     "metadata": {},
     "output_type": "display_data"
    }
   ],
   "source": [
    "#변수의 분포를 확인해보세요.\n",
    "sns.histplot(x=df[\"windspeed\"], bins=4, color=\"red\")\n",
    "plt.show()"
   ]
  },
  {
   "cell_type": "markdown",
   "id": "dbefbcfc",
   "metadata": {},
   "source": []
  },
  {
   "cell_type": "markdown",
   "id": "74304aed",
   "metadata": {},
   "source": [
    "6. 위 정보로 부터 파악한 내용 정리"
   ]
  },
  {
   "cell_type": "code",
   "execution_count": 27,
   "id": "931604d8",
   "metadata": {},
   "outputs": [],
   "source": [
    "#위 정보로부터 파악하신 내용을 정리해보세요."
   ]
  },
  {
   "cell_type": "markdown",
   "id": "a5227aea",
   "metadata": {},
   "source": [
    "* 바람이 없거나 약한 바람일 떄 데이터 건수가 많은 것을 알 수 있다. "
   ]
  },
  {
   "cell_type": "markdown",
   "id": "c7d0bf88",
   "metadata": {},
   "source": [
    "7. 추가 분석사항 도출"
   ]
  },
  {
   "cell_type": "code",
   "execution_count": 28,
   "id": "7c51215e",
   "metadata": {},
   "outputs": [],
   "source": [
    "#추가로 분석을 원하는 부분이 있다면 분석후 정리해보세요."
   ]
  },
  {
   "cell_type": "markdown",
   "id": "344f9ea2",
   "metadata": {},
   "source": []
  },
  {
   "cell_type": "markdown",
   "id": "41723aba",
   "metadata": {},
   "source": [
    "### Feature5 : humidity"
   ]
  },
  {
   "cell_type": "markdown",
   "id": "aab3a3be",
   "metadata": {},
   "source": [
    "1. 변수가 내포하고 있는 의미\n",
    "- 변수의 의미를 한번 짚고 넘어갑시다. 여러분이 생각하는 이 변수의 의미를 작성해보세요."
   ]
  },
  {
   "cell_type": "markdown",
   "id": "cb513dec",
   "metadata": {},
   "source": []
  },
  {
   "cell_type": "markdown",
   "id": "00327f39",
   "metadata": {},
   "source": [
    "2. 변수가 수치형인지 범주형인지\n"
   ]
  },
  {
   "cell_type": "code",
   "execution_count": 29,
   "id": "1da3836d",
   "metadata": {
    "tags": []
   },
   "outputs": [
    {
     "data": {
      "text/plain": [
       "dtype('int64')"
      ]
     },
     "execution_count": 29,
     "metadata": {},
     "output_type": "execute_result"
    }
   ],
   "source": [
    "#변수의 자료형을 확인해보세요.\n",
    "df[\"humidity\"].dtype"
   ]
  },
  {
   "cell_type": "markdown",
   "id": "38f50f9e",
   "metadata": {},
   "source": [
    "* 습도(humidity)는 수치형이며\n",
    "* 자료형은 int이다."
   ]
  },
  {
   "cell_type": "markdown",
   "id": "75757048",
   "metadata": {},
   "source": [
    "3. 변수의 결측치 존재 여부 및 조치방안"
   ]
  },
  {
   "cell_type": "code",
   "execution_count": 30,
   "id": "9da48994",
   "metadata": {
    "tags": []
   },
   "outputs": [
    {
     "data": {
      "text/plain": [
       "0"
      ]
     },
     "execution_count": 30,
     "metadata": {},
     "output_type": "execute_result"
    }
   ],
   "source": [
    "#변수의 결측치 존재 여부를 확인하고, 만약 결측치가 존재하면 어떻게 처리할지 고민해보세요. \n",
    "df[\"humidity\"].isna().sum()"
   ]
  },
  {
   "cell_type": "markdown",
   "id": "cc12bd02",
   "metadata": {},
   "source": []
  },
  {
   "cell_type": "markdown",
   "id": "fe311dd8",
   "metadata": {},
   "source": [
    "4. 변수의 기초 통계량 확인"
   ]
  },
  {
   "cell_type": "code",
   "execution_count": 31,
   "id": "b89d767f",
   "metadata": {},
   "outputs": [],
   "source": [
    "#변수의 기초 통계량을 확인해보세요"
   ]
  },
  {
   "cell_type": "markdown",
   "id": "02e7a995",
   "metadata": {},
   "source": []
  },
  {
   "cell_type": "markdown",
   "id": "f6b7732e",
   "metadata": {},
   "source": [
    "5. 변수의 분포 확인"
   ]
  },
  {
   "cell_type": "code",
   "execution_count": 32,
   "id": "189f4c18",
   "metadata": {
    "tags": []
   },
   "outputs": [
    {
     "data": {
      "image/png": "[encoded data removed]",
      "text/plain": [
       "<Figure size 640x480 with 1 Axes>"
      ]
     },
     "metadata": {},
     "output_type": "display_data"
    }
   ],
   "source": [
    "#변수의 분포를 확인해보세요.\n",
    "sns.histplot(x=df[\"humidity\"], bins=8, color=\"red\", kde=True)\n",
    "plt.show()"
   ]
  },
  {
   "cell_type": "markdown",
   "id": "14e93033",
   "metadata": {},
   "source": [
    "* 습도가 60 ~ 90인 즉 습함, 매우 습함 데이터가 많은 것을 알 수 있다."
   ]
  },
  {
   "cell_type": "markdown",
   "id": "b53e63e9",
   "metadata": {},
   "source": [
    "6. 위 정보로 부터 파악한 내용 정리"
   ]
  },
  {
   "cell_type": "code",
   "execution_count": 33,
   "id": "b4589b98",
   "metadata": {},
   "outputs": [],
   "source": [
    "#위 정보로부터 파악하신 내용을 정리해보세요."
   ]
  },
  {
   "cell_type": "markdown",
   "id": "ba65ec03",
   "metadata": {},
   "source": []
  },
  {
   "cell_type": "markdown",
   "id": "8d927e58",
   "metadata": {},
   "source": [
    "7. 추가 분석사항 도출"
   ]
  },
  {
   "cell_type": "code",
   "execution_count": 34,
   "id": "aa0f67b5",
   "metadata": {},
   "outputs": [],
   "source": [
    "#추가로 분석을 원하는 부분이 있다면 분석후 정리해보세요."
   ]
  },
  {
   "cell_type": "markdown",
   "id": "ae877799",
   "metadata": {},
   "source": []
  },
  {
   "cell_type": "markdown",
   "id": "816e19a4",
   "metadata": {},
   "source": [
    "### Feature6 : visibility"
   ]
  },
  {
   "cell_type": "markdown",
   "id": "6275c4cf",
   "metadata": {},
   "source": [
    "1. 변수가 내포하고 있는 의미\n",
    "- 변수의 의미를 한번 짚고 넘어갑시다. 여러분이 생각하는 이 변수의 의미를 작성해보세요."
   ]
  },
  {
   "cell_type": "markdown",
   "id": "dbe6a912",
   "metadata": {},
   "source": []
  },
  {
   "cell_type": "markdown",
   "id": "c435bb91",
   "metadata": {},
   "source": [
    "2. 변수가 수치형인지 범주형인지\n"
   ]
  },
  {
   "cell_type": "code",
   "execution_count": 35,
   "id": "13e715e3",
   "metadata": {},
   "outputs": [],
   "source": [
    "#변수의 자료형을 확인해보세요."
   ]
  },
  {
   "cell_type": "markdown",
   "id": "83dcee9d",
   "metadata": {},
   "source": []
  },
  {
   "cell_type": "markdown",
   "id": "8a7ee9c4",
   "metadata": {},
   "source": [
    "3. 변수의 결측치 존재 여부 및 조치방안"
   ]
  },
  {
   "cell_type": "code",
   "execution_count": 36,
   "id": "9cfaf50d",
   "metadata": {},
   "outputs": [],
   "source": [
    "#변수의 결측치 존재 여부를 확인하고, 만약 결측치가 존재하면 어떻게 처리할지 고민해보세요. "
   ]
  },
  {
   "cell_type": "markdown",
   "id": "fd00aad1",
   "metadata": {},
   "source": []
  },
  {
   "cell_type": "markdown",
   "id": "43ca43bc",
   "metadata": {},
   "source": [
    "4. 변수의 기초 통계량 확인"
   ]
  },
  {
   "cell_type": "code",
   "execution_count": 37,
   "id": "111a2874",
   "metadata": {},
   "outputs": [],
   "source": [
    "#변수의 기초 통계량을 확인해보세요"
   ]
  },
  {
   "cell_type": "markdown",
   "id": "34caa773",
   "metadata": {},
   "source": []
  },
  {
   "cell_type": "markdown",
   "id": "accc9aab",
   "metadata": {},
   "source": [
    "5. 변수의 분포 확인"
   ]
  },
  {
   "cell_type": "code",
   "execution_count": 38,
   "id": "5f13fe40",
   "metadata": {},
   "outputs": [],
   "source": [
    "#변수의 분포를 확인해보세요."
   ]
  },
  {
   "cell_type": "markdown",
   "id": "8f7dd657",
   "metadata": {},
   "source": []
  },
  {
   "cell_type": "markdown",
   "id": "24332e6d",
   "metadata": {},
   "source": [
    "6. 위 정보로 부터 파악한 내용 정리"
   ]
  },
  {
   "cell_type": "code",
   "execution_count": 39,
   "id": "8c18caf7",
   "metadata": {},
   "outputs": [],
   "source": [
    "#위 정보로부터 파악하신 내용을 정리해보세요."
   ]
  },
  {
   "cell_type": "markdown",
   "id": "bc4ce933",
   "metadata": {},
   "source": []
  },
  {
   "cell_type": "markdown",
   "id": "73664db6",
   "metadata": {},
   "source": [
    "7. 추가 분석사항 도출"
   ]
  },
  {
   "cell_type": "code",
   "execution_count": 40,
   "id": "0be289f1",
   "metadata": {},
   "outputs": [],
   "source": [
    "#추가로 분석을 원하는 부분이 있다면 분석후 정리해보세요."
   ]
  },
  {
   "cell_type": "markdown",
   "id": "a77cb4e2",
   "metadata": {},
   "source": []
  },
  {
   "cell_type": "markdown",
   "id": "3d5ca1e8",
   "metadata": {},
   "source": [
    "### Feature7 : ozone"
   ]
  },
  {
   "cell_type": "markdown",
   "id": "2ede82a0",
   "metadata": {},
   "source": [
    "1. 변수가 내포하고 있는 의미\n",
    "- 변수의 의미를 한번 짚고 넘어갑시다. 여러분이 생각하는 이 변수의 의미를 작성해보세요."
   ]
  },
  {
   "cell_type": "markdown",
   "id": "431e54e2",
   "metadata": {},
   "source": []
  },
  {
   "cell_type": "markdown",
   "id": "54822f83",
   "metadata": {},
   "source": [
    "2. 변수가 수치형인지 범주형인지\n"
   ]
  },
  {
   "cell_type": "code",
   "execution_count": 41,
   "id": "13f29583",
   "metadata": {
    "tags": []
   },
   "outputs": [
    {
     "data": {
      "text/plain": [
       "dtype('float64')"
      ]
     },
     "execution_count": 41,
     "metadata": {},
     "output_type": "execute_result"
    }
   ],
   "source": [
    "#변수의 자료형을 확인해보세요.\n",
    "df[\"ozone\"].dtype"
   ]
  },
  {
   "cell_type": "markdown",
   "id": "38b31af8",
   "metadata": {},
   "source": [
    "* 오존(ozone)은 수치형\n",
    "* 자료형은 float이다."
   ]
  },
  {
   "cell_type": "markdown",
   "id": "d9fe4a86",
   "metadata": {},
   "source": [
    "3. 변수의 결측치 존재 여부 및 조치방안"
   ]
  },
  {
   "cell_type": "code",
   "execution_count": 42,
   "id": "568932be",
   "metadata": {
    "tags": []
   },
   "outputs": [
    {
     "data": {
      "text/plain": [
       "128"
      ]
     },
     "metadata": {},
     "output_type": "display_data"
    },
    {
     "data": {
      "text/plain": [
       "array([0.002, 0.003, 0.023, 0.028, 0.008, 0.009, 0.018, 0.027, 0.032,\n",
       "       0.033, 0.038, 0.042, 0.044, 0.045, 0.043, 0.039, 0.037, 0.036,\n",
       "       0.034, 0.04 , 0.035, 0.041, 0.025, 0.01 , 0.015, 0.006, 0.022,\n",
       "       0.019, 0.03 , 0.026, 0.021, 0.017, 0.031, 0.029, 0.024, 0.02 ,\n",
       "       0.016, 0.004, 0.049, 0.053, 0.055, 0.059, 0.06 , 0.051, 0.046,\n",
       "       0.012, 0.013, 0.014, 0.047, 0.05 , 0.058, 0.052, 0.007, 0.056,\n",
       "         nan, 0.066, 0.057, 0.011, 0.054, 0.065, 0.067, 0.07 , 0.077,\n",
       "       0.072, 0.005, 0.064, 0.068, 0.071, 0.061, 0.074, 0.069, 0.048,\n",
       "       0.063, 0.079, 0.106, 0.104, 0.085, 0.075, 0.081, 0.073, 0.08 ,\n",
       "       0.062, 0.078, 0.088, 0.107, 0.11 , 0.116, 0.087, 0.082, 0.097,\n",
       "       0.099, 0.094, 0.086, 0.083, 0.09 , 0.093, 0.084, 0.076, 0.089,\n",
       "       0.1  , 0.137, 0.115, 0.092, 0.098, 0.103, 0.096, 0.111, 0.118,\n",
       "       0.101, 0.001])"
      ]
     },
     "metadata": {},
     "output_type": "display_data"
    }
   ],
   "source": [
    "#변수의 결측치 존재 여부를 확인하고, 만약 결측치가 존재하면 어떻게 처리할지 고민해보세요. \n",
    "display(df[\"ozone\"].isna().sum())\n",
    "display(df[\"ozone\"].unique())"
   ]
  },
  {
   "cell_type": "code",
   "execution_count": 43,
   "id": "8c79e4e4-b65c-4eeb-9bbe-7edaf2d60e8b",
   "metadata": {
    "tags": []
   },
   "outputs": [
    {
     "data": {
      "text/plain": [
       "0"
      ]
     },
     "execution_count": 43,
     "metadata": {},
     "output_type": "execute_result"
    }
   ],
   "source": [
    "# 결측치는 오존 평균값으로 대체한다.\n",
    "ozone_not_null_datas = df[df['ozone'].notna()]\n",
    "ozone_mean = ozone_not_null_datas[\"ozone\"].sum() / ozone_not_null_datas.shape[0]\n",
    "df[\"ozone\"] = df[\"ozone\"].fillna(ozone_mean)\n",
    "df[\"ozone\"].isna().sum()"
   ]
  },
  {
   "cell_type": "markdown",
   "id": "cce7aacf",
   "metadata": {},
   "source": [
    "4. 변수의 기초 통계량 확인"
   ]
  },
  {
   "cell_type": "code",
   "execution_count": 44,
   "id": "05fd1ec3",
   "metadata": {},
   "outputs": [],
   "source": [
    "#변수의 기초 통계량을 확인해보세요"
   ]
  },
  {
   "cell_type": "markdown",
   "id": "4df2a563",
   "metadata": {},
   "source": []
  },
  {
   "cell_type": "markdown",
   "id": "7c8f0023",
   "metadata": {},
   "source": [
    "5. 변수의 분포 확인"
   ]
  },
  {
   "cell_type": "code",
   "execution_count": 45,
   "id": "38824d71",
   "metadata": {
    "tags": []
   },
   "outputs": [
    {
     "data": {
      "image/png": "[encoded data removed]",
      "text/plain": [
       "<Figure size 640x480 with 1 Axes>"
      ]
     },
     "metadata": {},
     "output_type": "display_data"
    }
   ],
   "source": [
    "#변수의 분포를 확인해보세요.\n",
    "sns.histplot(x=df[\"ozone\"], bins=7, color=\"red\", kde=True)\n",
    "plt.show()"
   ]
  },
  {
   "cell_type": "markdown",
   "id": "63325702",
   "metadata": {},
   "source": []
  },
  {
   "cell_type": "markdown",
   "id": "983a4977",
   "metadata": {},
   "source": [
    "6. 위 정보로 부터 파악한 내용 정리"
   ]
  },
  {
   "cell_type": "code",
   "execution_count": 46,
   "id": "73a49230",
   "metadata": {},
   "outputs": [],
   "source": [
    "#위 정보로부터 파악하신 내용을 정리해보세요."
   ]
  },
  {
   "cell_type": "markdown",
   "id": "115554cb",
   "metadata": {},
   "source": []
  },
  {
   "cell_type": "markdown",
   "id": "684d88d7",
   "metadata": {},
   "source": [
    "7. 추가 분석사항 도출"
   ]
  },
  {
   "cell_type": "code",
   "execution_count": 47,
   "id": "28f655ed",
   "metadata": {},
   "outputs": [],
   "source": [
    "#추가로 분석을 원하는 부분이 있다면 분석후 정리해보세요."
   ]
  },
  {
   "cell_type": "markdown",
   "id": "339de912",
   "metadata": {},
   "source": []
  },
  {
   "cell_type": "markdown",
   "id": "a529d876",
   "metadata": {},
   "source": [
    "### Feature8 : PM10"
   ]
  },
  {
   "cell_type": "markdown",
   "id": "e3688d2b",
   "metadata": {},
   "source": [
    "1. 변수가 내포하고 있는 의미\n",
    "- 변수의 의미를 한번 짚고 넘어갑시다. 여러분이 생각하는 이 변수의 의미를 작성해보세요."
   ]
  },
  {
   "cell_type": "markdown",
   "id": "c2d0fc4e",
   "metadata": {},
   "source": []
  },
  {
   "cell_type": "markdown",
   "id": "50cc4799",
   "metadata": {},
   "source": [
    "2. 변수가 수치형인지 범주형인지\n"
   ]
  },
  {
   "cell_type": "code",
   "execution_count": 48,
   "id": "6226138a",
   "metadata": {
    "tags": []
   },
   "outputs": [
    {
     "data": {
      "text/plain": [
       "dtype('float64')"
      ]
     },
     "execution_count": 48,
     "metadata": {},
     "output_type": "execute_result"
    }
   ],
   "source": [
    "#변수의 자료형을 확인해보세요.\n",
    "df[\"PM10\"].dtype"
   ]
  },
  {
   "cell_type": "markdown",
   "id": "d69fbce9",
   "metadata": {},
   "source": [
    "* 미세먼지(PM10)은 수치형\n",
    "* 자료형은 float"
   ]
  },
  {
   "cell_type": "markdown",
   "id": "b073c315",
   "metadata": {},
   "source": [
    "3. 변수의 결측치 존재 여부 및 조치방안"
   ]
  },
  {
   "cell_type": "code",
   "execution_count": 49,
   "id": "7cba4061",
   "metadata": {
    "tags": []
   },
   "outputs": [
    {
     "data": {
      "text/plain": [
       "102"
      ]
     },
     "execution_count": 49,
     "metadata": {},
     "output_type": "execute_result"
    }
   ],
   "source": [
    "#변수의 결측치 존재 여부를 확인하고, 만약 결측치가 존재하면 어떻게 처리할지 고민해보세요. \n",
    "df[\"PM10\"].isna().sum()"
   ]
  },
  {
   "cell_type": "code",
   "execution_count": 50,
   "id": "51cae5b8-d707-4c02-ba96-9660e0aa3e8f",
   "metadata": {
    "tags": []
   },
   "outputs": [
    {
     "data": {
      "text/plain": [
       "0"
      ]
     },
     "execution_count": 50,
     "metadata": {},
     "output_type": "execute_result"
    }
   ],
   "source": [
    "# 결측치는 미세먼지(PM10)의 평균으로 대치한다.\n",
    "PM10_not_null_datas = df[df['PM10'].notna()]\n",
    "PM10_average = PM10_not_null_datas[\"PM10\"].sum() / PM10_not_null_datas.shape[0]\n",
    "df[\"PM10\"] = df[\"PM10\"].fillna(PM10_average)\n",
    "df[\"PM10\"].isna().sum()"
   ]
  },
  {
   "cell_type": "code",
   "execution_count": 50,
   "id": "2c0f3101-0590-43e0-882a-1d48b4b4a5d6",
   "metadata": {
    "tags": []
   },
   "outputs": [
    {
     "data": {
      "text/plain": [
       "0"
      ]
     },
     "execution_count": 50,
     "metadata": {},
     "output_type": "execute_result"
    }
   ],
   "source": [
    "# 결측치는 미세먼지(PM10)의 평균으로 대치한다.\n",
    "PM10_not_null_datas = df[df['PM10'].notna()]\n",
    "PM10_average = PM10_not_null_datas[\"PM10\"].sum() / PM10_not_null_datas.shape[0]\n",
    "df[\"PM10\"] = df[\"PM10\"].fillna(PM10_average)\n",
    "df[\"PM10\"].isna().sum()"
   ]
  },
  {
   "cell_type": "markdown",
   "id": "d52d9fe6",
   "metadata": {},
   "source": [
    "4. 변수의 기초 통계량 확인"
   ]
  },
  {
   "cell_type": "code",
   "execution_count": 51,
   "id": "f6869e7e",
   "metadata": {
    "tags": []
   },
   "outputs": [],
   "source": [
    "#변수의 기초 통계량을 확인해보세요\n"
   ]
  },
  {
   "cell_type": "markdown",
   "id": "7c7d1a84",
   "metadata": {},
   "source": []
  },
  {
   "cell_type": "markdown",
   "id": "944ea66a",
   "metadata": {},
   "source": [
    "5. 변수의 분포 확인"
   ]
  },
  {
   "cell_type": "code",
   "execution_count": 117,
   "id": "bfd8ef20-051f-4252-b4cd-889d5dd03911",
   "metadata": {
    "tags": []
   },
   "outputs": [
    {
     "data": {
      "image/png": "[encoded data removed]",
      "text/plain": [
       "<Figure size 640x480 with 1 Axes>"
      ]
     },
     "metadata": {},
     "output_type": "display_data"
    }
   ],
   "source": [
    "sns.histplot(x=df[\"PM10\"], kde=True)\n",
    "plt.show()"
   ]
  },
  {
   "cell_type": "code",
   "execution_count": 52,
   "id": "6e6826d1",
   "metadata": {
    "tags": []
   },
   "outputs": [
    {
     "data": {
      "image/png": "[encoded data removed]",
      "text/plain": [
       "<Figure size 640x480 with 1 Axes>"
      ]
     },
     "metadata": {},
     "output_type": "display_data"
    }
   ],
   "source": [
    "#변수의 분포를 확인해보세요.\n",
    "# 미세먼지(PM10)을 좋음 (0 <= < 31), 보통 (31 <=  < 80), 나쁨 (81 <=  < 150), 매우 나쁨 (151 <=  < 250), 위험 (250 <= < 828)으로 분류\n",
    "sns.histplot(x=df[\"PM10\"], kde=True)\n",
    "plt.xlim(0, 200)\n",
    "plt.show()"
   ]
  },
  {
   "cell_type": "markdown",
   "id": "4d3e2871",
   "metadata": {},
   "source": [
    "* 미세먼지가 좋음, 보통인 데이터들이 많다."
   ]
  },
  {
   "cell_type": "markdown",
   "id": "8288bf3c",
   "metadata": {},
   "source": [
    "6. 위 정보로 부터 파악한 내용 정리"
   ]
  },
  {
   "cell_type": "code",
   "execution_count": 53,
   "id": "76935874",
   "metadata": {
    "tags": []
   },
   "outputs": [],
   "source": [
    "#위 정보로부터 파악하신 내용을 정리해보세요."
   ]
  },
  {
   "cell_type": "markdown",
   "id": "130be6e0",
   "metadata": {},
   "source": []
  },
  {
   "cell_type": "markdown",
   "id": "c87199fe",
   "metadata": {},
   "source": [
    "7. 추가 분석사항 도출"
   ]
  },
  {
   "cell_type": "code",
   "execution_count": 54,
   "id": "8ecdf04a",
   "metadata": {},
   "outputs": [],
   "source": [
    "#추가로 분석을 원하는 부분이 있다면 분석후 정리해보세요."
   ]
  },
  {
   "cell_type": "markdown",
   "id": "1eb52ba0",
   "metadata": {},
   "source": []
  },
  {
   "cell_type": "markdown",
   "id": "92ae2ab4",
   "metadata": {},
   "source": [
    "### Feature9 : PM2.5"
   ]
  },
  {
   "cell_type": "markdown",
   "id": "35d80d67",
   "metadata": {},
   "source": [
    "1. 변수가 내포하고 있는 의미\n",
    "- 변수의 의미를 한번 짚고 넘어갑시다. 여러분이 생각하는 이 변수의 의미를 작성해보세요."
   ]
  },
  {
   "cell_type": "markdown",
   "id": "0551aad1",
   "metadata": {},
   "source": []
  },
  {
   "cell_type": "markdown",
   "id": "6aa0675b",
   "metadata": {},
   "source": [
    "2. 변수가 수치형인지 범주형인지\n"
   ]
  },
  {
   "cell_type": "code",
   "execution_count": 55,
   "id": "492fa7b0",
   "metadata": {},
   "outputs": [],
   "source": [
    "#변수의 자료형을 확인해보세요."
   ]
  },
  {
   "cell_type": "markdown",
   "id": "ffcd0e0e",
   "metadata": {},
   "source": []
  },
  {
   "cell_type": "markdown",
   "id": "c5026619",
   "metadata": {},
   "source": [
    "3. 변수의 결측치 존재 여부 및 조치방안"
   ]
  },
  {
   "cell_type": "code",
   "execution_count": 56,
   "id": "353fc354",
   "metadata": {
    "tags": []
   },
   "outputs": [
    {
     "data": {
      "text/plain": [
       "array([ 21.        ,  13.        ,  12.        ,  14.        ,\n",
       "        10.        ,   9.        ,   8.        ,  16.        ,\n",
       "        11.        ,   7.        ,  18.        ,  19.        ,\n",
       "        24.        ,  22.        ,  20.        ,  17.        ,\n",
       "        15.        ,   4.        ,   6.        ,   5.        ,\n",
       "         1.        ,   2.        ,   3.        ,  26.        ,\n",
       "        29.        ,  28.        ,  27.        ,  25.        ,\n",
       "        35.        ,  39.        ,  40.        ,  44.        ,\n",
       "        55.        ,  60.        ,  62.        ,  58.        ,\n",
       "        56.        ,  54.        ,  32.        ,  23.        ,\n",
       "        31.        ,  33.        ,  15.66660851,  30.        ,\n",
       "        57.        ,  34.        ,  37.        ,  38.        ,\n",
       "        36.        ,  43.        ,  47.        ,  41.        ,\n",
       "        42.        ,  49.        ,  59.        ,  52.        ,\n",
       "        50.        ,  78.        ,  88.        ,  89.        ,\n",
       "        93.        ,  94.        ,  87.        ,  86.        ,\n",
       "       106.        , 117.        , 116.        , 115.        ,\n",
       "       102.        ,  85.        ,  79.        ,  77.        ,\n",
       "        71.        ,  74.        ,  73.        ,  66.        ,\n",
       "        61.        ,  53.        ,  45.        ,  65.        ,\n",
       "        67.        ,  63.        ,  51.        ,  46.        ,\n",
       "        48.        ,  91.        ,  99.        , 121.        ,\n",
       "       125.        , 120.        , 123.        , 109.        ,\n",
       "       110.        ,  83.        ,  90.        , 111.        ,\n",
       "       107.        , 114.        , 101.        , 113.        ,\n",
       "        92.        ,  70.        ,  95.        , 104.        ,\n",
       "       108.        , 122.        , 112.        ,  96.        ,\n",
       "        81.        ,  84.        ,  82.        ])"
      ]
     },
     "execution_count": 56,
     "metadata": {},
     "output_type": "execute_result"
    }
   ],
   "source": [
    "#변수의 결측치 존재 여부를 확인하고, 만약 결측치가 존재하면 어떻게 처리할지 고민해보세요. \n",
    "# 결측치 값은 PM2.5의 평균값으로 대치한다.\n",
    "PM25_not_null_datas = df[df[\"PM2.5\"].notnull()]\n",
    "PM25_average = PM25_not_null_datas[\"PM2.5\"].sum() / PM25_not_null_datas.shape[0]\n",
    "df[\"PM2.5\"] = df[\"PM2.5\"].fillna(PM25_average)\n",
    "df[\"PM2.5\"].unique()"
   ]
  },
  {
   "cell_type": "markdown",
   "id": "dacf3afa",
   "metadata": {},
   "source": []
  },
  {
   "cell_type": "markdown",
   "id": "b27f1061",
   "metadata": {},
   "source": [
    "4. 변수의 기초 통계량 확인"
   ]
  },
  {
   "cell_type": "code",
   "execution_count": 57,
   "id": "d82c9230",
   "metadata": {},
   "outputs": [],
   "source": [
    "#변수의 기초 통계량을 확인해보세요"
   ]
  },
  {
   "cell_type": "markdown",
   "id": "ed502c2e",
   "metadata": {},
   "source": []
  },
  {
   "cell_type": "markdown",
   "id": "8358b1e1",
   "metadata": {},
   "source": [
    "5. 변수의 분포 확인"
   ]
  },
  {
   "cell_type": "code",
   "execution_count": 58,
   "id": "b3ef3f62",
   "metadata": {},
   "outputs": [],
   "source": [
    "#변수의 분포를 확인해보세요."
   ]
  },
  {
   "cell_type": "markdown",
   "id": "c50ed822",
   "metadata": {},
   "source": []
  },
  {
   "cell_type": "markdown",
   "id": "88022ffa",
   "metadata": {},
   "source": [
    "6. 위 정보로 부터 파악한 내용 정리"
   ]
  },
  {
   "cell_type": "code",
   "execution_count": 59,
   "id": "d524713c",
   "metadata": {},
   "outputs": [],
   "source": [
    "#위 정보로부터 파악하신 내용을 정리해보세요."
   ]
  },
  {
   "cell_type": "markdown",
   "id": "6603020b",
   "metadata": {},
   "source": []
  },
  {
   "cell_type": "markdown",
   "id": "dbab687e",
   "metadata": {},
   "source": [
    "7. 추가 분석사항 도출"
   ]
  },
  {
   "cell_type": "code",
   "execution_count": 60,
   "id": "8393e26e",
   "metadata": {},
   "outputs": [],
   "source": [
    "#추가로 분석을 원하는 부분이 있다면 분석후 정리해보세요."
   ]
  },
  {
   "cell_type": "markdown",
   "id": "964a8660",
   "metadata": {},
   "source": []
  },
  {
   "cell_type": "markdown",
   "id": "13cf9192",
   "metadata": {},
   "source": [
    "### Count (Target)"
   ]
  },
  {
   "cell_type": "markdown",
   "id": "825462e4",
   "metadata": {},
   "source": [
    "1. 변수가 내포하고 있는 의미\n",
    "- 변수의 의미를 한번 짚고 넘어갑시다. 여러분이 생각하는 이 변수의 의미를 작성해보세요."
   ]
  },
  {
   "cell_type": "markdown",
   "id": "9bf2f26e",
   "metadata": {},
   "source": []
  },
  {
   "cell_type": "markdown",
   "id": "affe43b7",
   "metadata": {},
   "source": [
    "2. 변수가 수치형인지 범주형인지\n"
   ]
  },
  {
   "cell_type": "code",
   "execution_count": 61,
   "id": "d4eb8183",
   "metadata": {
    "tags": []
   },
   "outputs": [
    {
     "data": {
      "text/plain": [
       "dtype('int64')"
      ]
     },
     "execution_count": 61,
     "metadata": {},
     "output_type": "execute_result"
    }
   ],
   "source": [
    "#변수의 자료형을 확인해보세요.\n",
    "df[\"count\"].dtype"
   ]
  },
  {
   "cell_type": "markdown",
   "id": "aab7c887",
   "metadata": {},
   "source": [
    "* 자전거 대여량(count)은 수치형이며\n",
    "* 자료형은 int이다."
   ]
  },
  {
   "cell_type": "markdown",
   "id": "ec944261",
   "metadata": {},
   "source": [
    "3. 변수의 결측치 존재 여부 및 조치방안"
   ]
  },
  {
   "cell_type": "code",
   "execution_count": 62,
   "id": "ba18776f",
   "metadata": {},
   "outputs": [],
   "source": [
    "#변수의 결측치 존재 여부를 확인하고, 만약 결측치가 존재하면 어떻게 처리할지 고민해보세요. "
   ]
  },
  {
   "cell_type": "markdown",
   "id": "16796890",
   "metadata": {},
   "source": []
  },
  {
   "cell_type": "markdown",
   "id": "503bbb21",
   "metadata": {},
   "source": [
    "4. 변수의 기초 통계량 확인"
   ]
  },
  {
   "cell_type": "code",
   "execution_count": 63,
   "id": "95ce7586",
   "metadata": {},
   "outputs": [],
   "source": [
    "#변수의 기초 통계량을 확인해보세요"
   ]
  },
  {
   "cell_type": "markdown",
   "id": "b2d0b737",
   "metadata": {},
   "source": []
  },
  {
   "cell_type": "markdown",
   "id": "f5137c01",
   "metadata": {},
   "source": [
    "5. 변수의 분포 확인"
   ]
  },
  {
   "cell_type": "code",
   "execution_count": 64,
   "id": "3c022ce3",
   "metadata": {
    "tags": []
   },
   "outputs": [
    {
     "data": {
      "image/png": "[encoded data removed]",
      "text/plain": [
       "<Figure size 640x480 with 1 Axes>"
      ]
     },
     "metadata": {},
     "output_type": "display_data"
    }
   ],
   "source": [
    "#변수의 분포를 확인해보세요.\n",
    "sns.histplot(x=df[\"count\"], bins=7, kde=True)\n",
    "plt.xlim(0, 1000)\n",
    "plt.show()"
   ]
  },
  {
   "cell_type": "markdown",
   "id": "5ddca244",
   "metadata": {},
   "source": [
    "* 자전거 대여량이 0 ~ 200 데이터가 가장 많다."
   ]
  },
  {
   "cell_type": "markdown",
   "id": "4e57b66a",
   "metadata": {},
   "source": [
    "6. 위 정보로 부터 파악한 내용 정리"
   ]
  },
  {
   "cell_type": "code",
   "execution_count": 65,
   "id": "ece96692",
   "metadata": {},
   "outputs": [],
   "source": [
    "#위 정보로부터 파악하신 내용을 정리해보세요."
   ]
  },
  {
   "cell_type": "code",
   "execution_count": null,
   "id": "a6792a2e-7f10-4af9-8bc7-363ad7de7a3b",
   "metadata": {},
   "outputs": [],
   "source": []
  },
  {
   "cell_type": "markdown",
   "id": "675020f3",
   "metadata": {},
   "source": [
    "7. 추가 분석사항 도출"
   ]
  },
  {
   "cell_type": "code",
   "execution_count": 66,
   "id": "e780a945",
   "metadata": {},
   "outputs": [],
   "source": [
    "#추가로 분석을 원하는 부분이 있다면 분석후 정리해보세요."
   ]
  },
  {
   "cell_type": "markdown",
   "id": "9a9be732",
   "metadata": {},
   "source": []
  },
  {
   "cell_type": "markdown",
   "id": "daa6458d",
   "metadata": {},
   "source": [
    "### [Step4] 이변량 분석 \n",
    "* 자료의 종류에 맞게 X --> Y 에 대해서 그래프(시각화)와 가설검정(수치화)을 수행하고 결과를 평가합니다.\n",
    "* 가설검정시 다음의 항목을 참조하여 수행합니다.\n",
    "    * 적절한 유의수준\n",
    "    * 숫자 --> 숫자 : 상관분석\n",
    "    * 범주 --> 범주 : 카이제곱검정\n",
    "    * 범주 --> 숫자 : t검정, 분산분석\n",
    "    * 숫자 --> 범주 : 로지스틱 회귀모형을 통해, 회귀계수의 P.value로 검정을 수행합니다."
   ]
  },
  {
   "cell_type": "markdown",
   "id": "1255bdd7-12a4-4184-8ca5-52c956f96176",
   "metadata": {},
   "source": [
    "#### 가설 1 : 날짜(date)가 자전저 대여량(count)과 연관이 있는가?\n",
    "               - 어떠한 달이 자전거 대여량이 높은가?\n",
    "                  -> 4월, 6월, 9월, 10월이 자전거 대여량 합 평균이 높은 것으로 집계된다.\n",
    "                  \n",
    "               - 날짜(date)를 월요일, 화요일, 수요일, 목요일, 금요일, 토요일, 일요일로 분류하여 어떠한 요일에 자전거 대여량이 많은가?\n",
    "                   -> 수요일, 목요일, 금요일이 자전거 대여량 합 평균이 높은 것으로 집계된다.\n",
    "\n",
    "#### 가설 2 : 시간대(date)가 자전거 대여량(count)와 연관이 있는가?\n",
    "               - 시간대(date)를  새벽(ex. 0 <= < 6), 아침(ex. 6 <= < 9), 오전 (ex. 9 <= < 12), 점심 (ex. 12 <= < 14), 오후(ex. 14 <= < 18), \n",
    "               저녁 (ex. 18 <= < 22), 밤 (ex. 22 <=  < 24)으로 구분하여 어떠한 시간대가 자전거 대여량이 높은가?\n",
    "                   -> 오후, 저녁 시간대 (14시 ~ 21시)에 자전거 대여량이 많은 것을 알 수 있다.\n",
    "\n",
    "#### 가설 3 : 미세먼지(PM10)이 자전거 대여량(count)와 연관이 있는가?\n",
    "              - 미세먼지(PM10)을 좋음 (0 <= < 31), 보통 (31 <=  < 81), 나쁨 (81 <=  < 151), 매우 나쁨 (151 <=  < 250), 위험 (250 <= < 828)으로 분류하여\n",
    "                 -> 미세먼지 보통(31 ~ 80)일 떄 자전거 대여량이 높았다.\n",
    "                 \n",
    "#### 가설 4 : 온도(temperature)가 자전거 대여량(count)와 연관이 있는가?\n",
    "              - 온도를  쌀쌀한 날씨: (-3.5 <= < 0), 서늘한 날씨(0 <= < 10), 따뜻한 날씨: (10 <= < 25), 더운 날씨: (25 <= < 30), \n",
    "                        매우 더운 날씨: (30 <= < 36.4)로 분류하여 온도가 어떠한 겨울에 자전거 대여량이 높은지 확인한다.\n",
    "                -> 더운 날씨, 매우 더운 날씨 (25 ~ 36.4)에서 자전거 대여량이 높은 것을 알 수 있다.\n",
    "\n",
    "####  가설 5 : 강우 여부(precipitation)가 자전거 대여량(count)와 연관이 있는가?\n",
    "               -> 강우 여부와 자전거 대여량은 강한 연관을 가지며\n",
    "                  비가 내리지 않을 떄 자전거 대여량은 높은 것을 알 수 있다.\n",
    "\n",
    "\n",
    "\n",
    "####  가설 6 : 풍속(windspeed)가 자전거 대여량(count)와 연관이 있는가?\n",
    "           - 풍속을 바람 없음(0 <= < 0.3), 약한 바람: (0.3 <= < 3.3), \n",
    "             약간 강한 바람: (3.4 <= < 8.0), 강한 바람: (8.0 <= < 10.0)으로 분류하여 \n",
    "             어떠한 풍속일 떄 자전거 대여량이 높은지 확인한다.\n",
    "             -> 약한 강한 바람(3.4 ~ 7.9)일 떄 자전거 대여량이 평균적으로 높다.\n",
    "             \n",
    "#### 가설 7 : 습도(humidity)가 자전거 대여량(count)와 연관이 있는가?\n",
    "           - 습도(humidity) 건조: (19 <=  < 41), 보통: (41 <=  < 60), 습함: (61 <= < 80), 매우 습함: (81 <= < 101)으로 분류하여\n",
    "            어떠한 습도일 떄 자전거 대여량이 높은지 확인한다\n",
    "            -> 습도가 보통 ~ 건조(19 ~ 59)일 떄 자전거 대여량이 비교적 높은 것을 알 수 있다."
   ]
  },
  {
   "cell_type": "code",
   "execution_count": 67,
   "id": "69fee83d-10ea-4d5e-9163-b521675b75f7",
   "metadata": {
    "tags": []
   },
   "outputs": [],
   "source": [
    "# 데이터\n",
    "df.head()\n",
    "# 한글 폰트 설정\n",
    "plt.rc('font', family='Malgun Gothic')"
   ]
  },
  {
   "cell_type": "markdown",
   "id": "88936c1d",
   "metadata": {},
   "source": [
    "#### (1) 범주형 Feature --> 숫자형 Y (따릉이 대여 Count)\n",
    "\n",
    "<font color=\"green\">* 모든 범주형 Feature에 대해서 Y와 비교하여 차트를 그리고 수치화 하시오.</font>\n",
    "\n",
    "\n",
    "        1. 시각화 : 그래프를 활용한 데이터 분석\n",
    "        2. 수치화 : t-test, anova\n",
    "        3. 관계 평가 (가설 검정)"
   ]
  },
  {
   "cell_type": "markdown",
   "id": "670df537-de38-4103-a721-e91b5867f40a",
   "metadata": {
    "tags": []
   },
   "source": [
    "1. 날짜(date)를 4월, 5월 ... 11월로 범주화 -> 따릉이 대여량간 이변량 분석"
   ]
  },
  {
   "cell_type": "code",
   "execution_count": 68,
   "id": "78c0011d-c175-46f8-b485-b5485f0fc304",
   "metadata": {
    "tags": []
   },
   "outputs": [],
   "source": [
    "# 날짜를 4월, 5월 ... 11월로 범주화하여 새로운 열 \"month\"를 만든다.\n",
    "df[\"date\"] = pd.to_datetime(df[\"date\"])\n",
    "df[\"month\"] = df[\"date\"].dt.month\n",
    "df[\"month\"] = df[\"month\"].astype(str)\n",
    "df[\"month\"] = df[\"month\"] + \"월\""
   ]
  },
  {
   "cell_type": "code",
   "execution_count": 69,
   "id": "fd6eb539-f2f9-44d6-95f0-5a82ede5f20d",
   "metadata": {
    "tags": []
   },
   "outputs": [
    {
     "data": {
      "image/png": "[encoded data removed]",
      "text/plain": [
       "<Figure size 640x480 with 1 Axes>"
      ]
     },
     "metadata": {},
     "output_type": "display_data"
    },
    {
     "data": {
      "text/plain": [
       "F_onewayResult(statistic=14.418555266868342, pvalue=1.0250409939149756e-18)"
      ]
     },
     "execution_count": 69,
     "metadata": {},
     "output_type": "execute_result"
    }
   ],
   "source": [
    "# 시각화\n",
    "# x축 : 4월, 5월, ...., 11월\n",
    "# y축 : 4월의 자전거 대여량 합 평균, 5월의 자전거 대여량 합 평균 ...., 11월의 자전거 대여량 합 평균\n",
    "sns.barplot(x=df[\"month\"], y=df[\"count\"])\n",
    "plt.show()\n",
    "\n",
    "# 수치화\n",
    "L = []\n",
    "for element in df[\"month\"].unique():\n",
    "    L.append(df.loc[df[\"month\"] == element, \"count\"])\n",
    "stats.f_oneway(*L)"
   ]
  },
  {
   "cell_type": "markdown",
   "id": "b2cb6c2e-ef13-4004-bef6-467f14c992e1",
   "metadata": {},
   "source": [
    "* F 통계량이 약 14이며, pvalue가 0에 수렴하므로 유의미하다고 볼 수 있다.\n",
    "* 4월, 6월, 9월, 10월이 자전거 대여량 합 평균이 높다고 볼 수 있다."
   ]
  },
  {
   "cell_type": "markdown",
   "id": "60917177-3e9d-449a-b86b-6f356d0b53e2",
   "metadata": {},
   "source": [
    "2. 날짜(date)를 가지고 일요일, 월요일..., 금요일으로 범주화 -> 따릉이 대여량 간 이변량 분석"
   ]
  },
  {
   "cell_type": "code",
   "execution_count": 70,
   "id": "b0bde2e7-c478-4f8b-89a6-a2bfb01c0d94",
   "metadata": {
    "tags": []
   },
   "outputs": [
    {
     "data": {
      "text/html": [
       "<div>\n",
       "<style scoped>\n",
       "    .dataframe tbody tr th:only-of-type {\n",
       "        vertical-align: middle;\n",
       "    }\n",
       "\n",
       "    .dataframe tbody tr th {\n",
       "        vertical-align: top;\n",
       "    }\n",
       "\n",
       "    .dataframe thead th {\n",
       "        text-align: right;\n",
       "    }\n",
       "</style>\n",
       "<table border=\"1\" class=\"dataframe\">\n",
       "  <thead>\n",
       "    <tr style=\"text-align: right;\">\n",
       "      <th></th>\n",
       "      <th>date</th>\n",
       "      <th>hour</th>\n",
       "      <th>PM10</th>\n",
       "      <th>PM2.5</th>\n",
       "      <th>ozone</th>\n",
       "      <th>temperature</th>\n",
       "      <th>precipitation</th>\n",
       "      <th>windspeed</th>\n",
       "      <th>humidity</th>\n",
       "      <th>visibility</th>\n",
       "      <th>count</th>\n",
       "      <th>month</th>\n",
       "      <th>day</th>\n",
       "    </tr>\n",
       "  </thead>\n",
       "  <tbody>\n",
       "    <tr>\n",
       "      <th>0</th>\n",
       "      <td>2021-04-01</td>\n",
       "      <td>1</td>\n",
       "      <td>42.0</td>\n",
       "      <td>21.0</td>\n",
       "      <td>0.002</td>\n",
       "      <td>13.1</td>\n",
       "      <td>0</td>\n",
       "      <td>1.4</td>\n",
       "      <td>49</td>\n",
       "      <td>2000</td>\n",
       "      <td>46</td>\n",
       "      <td>4월</td>\n",
       "      <td>목요일</td>\n",
       "    </tr>\n",
       "    <tr>\n",
       "      <th>1</th>\n",
       "      <td>2021-04-01</td>\n",
       "      <td>2</td>\n",
       "      <td>41.0</td>\n",
       "      <td>21.0</td>\n",
       "      <td>0.003</td>\n",
       "      <td>12.4</td>\n",
       "      <td>0</td>\n",
       "      <td>2.1</td>\n",
       "      <td>53</td>\n",
       "      <td>2000</td>\n",
       "      <td>40</td>\n",
       "      <td>4월</td>\n",
       "      <td>목요일</td>\n",
       "    </tr>\n",
       "    <tr>\n",
       "      <th>2</th>\n",
       "      <td>2021-04-01</td>\n",
       "      <td>3</td>\n",
       "      <td>30.0</td>\n",
       "      <td>13.0</td>\n",
       "      <td>0.023</td>\n",
       "      <td>13.1</td>\n",
       "      <td>0</td>\n",
       "      <td>3.4</td>\n",
       "      <td>43</td>\n",
       "      <td>2000</td>\n",
       "      <td>31</td>\n",
       "      <td>4월</td>\n",
       "      <td>목요일</td>\n",
       "    </tr>\n",
       "    <tr>\n",
       "      <th>3</th>\n",
       "      <td>2021-04-01</td>\n",
       "      <td>4</td>\n",
       "      <td>27.0</td>\n",
       "      <td>12.0</td>\n",
       "      <td>0.028</td>\n",
       "      <td>13.0</td>\n",
       "      <td>0</td>\n",
       "      <td>3.1</td>\n",
       "      <td>44</td>\n",
       "      <td>2000</td>\n",
       "      <td>12</td>\n",
       "      <td>4월</td>\n",
       "      <td>목요일</td>\n",
       "    </tr>\n",
       "    <tr>\n",
       "      <th>4</th>\n",
       "      <td>2021-04-01</td>\n",
       "      <td>5</td>\n",
       "      <td>29.0</td>\n",
       "      <td>14.0</td>\n",
       "      <td>0.008</td>\n",
       "      <td>13.0</td>\n",
       "      <td>0</td>\n",
       "      <td>2.9</td>\n",
       "      <td>44</td>\n",
       "      <td>2000</td>\n",
       "      <td>30</td>\n",
       "      <td>4월</td>\n",
       "      <td>목요일</td>\n",
       "    </tr>\n",
       "  </tbody>\n",
       "</table>\n",
       "</div>"
      ],
      "text/plain": [
       "        date  hour  PM10  PM2.5  ozone  temperature  precipitation  windspeed  \\\n",
       "0 2021-04-01     1  42.0   21.0  0.002         13.1              0        1.4   \n",
       "1 2021-04-01     2  41.0   21.0  0.003         12.4              0        2.1   \n",
       "2 2021-04-01     3  30.0   13.0  0.023         13.1              0        3.4   \n",
       "3 2021-04-01     4  27.0   12.0  0.028         13.0              0        3.1   \n",
       "4 2021-04-01     5  29.0   14.0  0.008         13.0              0        2.9   \n",
       "\n",
       "   humidity  visibility  count month  day  \n",
       "0        49        2000     46    4월  목요일  \n",
       "1        53        2000     40    4월  목요일  \n",
       "2        43        2000     31    4월  목요일  \n",
       "3        44        2000     12    4월  목요일  \n",
       "4        44        2000     30    4월  목요일  "
      ]
     },
     "execution_count": 70,
     "metadata": {},
     "output_type": "execute_result"
    }
   ],
   "source": [
    "# 날짜(date)를 가지고 평일(Weekday), 주말(Weekend)으로 범주화 한다.\n",
    "df[\"day\"] = df[\"date\"].dt.weekday\n",
    "df[\"day\"] = df[\"day\"].map({\n",
    "    0 : \"월요일\",\n",
    "    1 : \"화요일\",\n",
    "    2 : \"수요일\",\n",
    "    3 : \"목요일\",\n",
    "    4 : \"금요일\",\n",
    "    5 : \"토요일\",\n",
    "    6 : \"일요일\",\n",
    "})\n",
    "# 순서를 원하는대로 지정\n",
    "custom_order = ['일요일', '월요일', '화요일', '수요일', '목요일', '금요일', '토요일']\n",
    "# 데이터프레임의 'day' 열을 Categorical로 변환하여 순서 지정\n",
    "df['day'] = pd.Categorical(df['day'], categories=custom_order, ordered=True)\n",
    "df.head()"
   ]
  },
  {
   "cell_type": "code",
   "execution_count": 71,
   "id": "2c8a7fc6-a833-4642-bf9c-3081b5be3803",
   "metadata": {
    "tags": []
   },
   "outputs": [
    {
     "data": {
      "image/png": "[encoded data removed]",
      "text/plain": [
       "<Figure size 640x480 with 1 Axes>"
      ]
     },
     "metadata": {},
     "output_type": "display_data"
    },
    {
     "data": {
      "text/plain": [
       "F_onewayResult(statistic=8.317297883731852, pvalue=5.378942897976812e-09)"
      ]
     },
     "execution_count": 71,
     "metadata": {},
     "output_type": "execute_result"
    }
   ],
   "source": [
    "# 시각화\n",
    "# x축 : 월요일, 화요일, ... , 일요일\n",
    "# y축 : 월요일일 떄 자전거 대여량 합의 평균, 화요일일 떄 자전거 대여량 합의 평균, .... 일요일일 떄 자전거 대여량 합의 평균\n",
    "sns.barplot(x=df[\"day\"], y=df[\"count\"])\n",
    "plt.show()\n",
    "\n",
    "# 수치화\n",
    "L = []\n",
    "for element in df[\"day\"].unique():\n",
    "    L.append(df.loc[df[\"day\"] == element, \"count\"])\n",
    "stats.f_oneway(*L)"
   ]
  },
  {
   "cell_type": "markdown",
   "id": "e5860016-33e0-4cea-9c35-ab28a7688309",
   "metadata": {},
   "source": [
    "* 요일과 자전거 대여량의 관계는 유의미하다고 볼 수 있다.\n",
    "* 수요일, 목요일, 금요일이 자전거 대여량 합 평균이 높다고 볼 수 있다."
   ]
  },
  {
   "cell_type": "markdown",
   "id": "47716272",
   "metadata": {},
   "source": [
    "2. 강수 여부와 따릉이 대여량간 이변량 분석"
   ]
  },
  {
   "cell_type": "code",
   "execution_count": 72,
   "id": "61c89876",
   "metadata": {
    "tags": []
   },
   "outputs": [
    {
     "data": {
      "image/png": "[encoded data removed]",
      "text/plain": [
       "<Figure size 640x480 with 1 Axes>"
      ]
     },
     "metadata": {},
     "output_type": "display_data"
    },
    {
     "data": {
      "text/plain": [
       "Ttest_indResult(statistic=21.389614151911022, pvalue=8.86239184041254e-98)"
      ]
     },
     "execution_count": 72,
     "metadata": {},
     "output_type": "execute_result"
    }
   ],
   "source": [
    "# 시각화\n",
    "# x축 : precipitation 0, 1  \n",
    "# y축 : precipitation이 0일 떄 자전거 대여량 합의 평균, 1일 떄 지전거 대여량 합의 평균균\n",
    "sns.barplot(x=df[\"precipitation\"], y=df[\"count\"], width=0.5)\n",
    "plt.show()\n",
    "\n",
    "# 수치화\n",
    "L = []\n",
    "for element in df[\"precipitation\"].unique():\n",
    "    L.append(df.loc[df[\"precipitation\"] == element, \"count\"])\n",
    "stats.ttest_ind(*L)\n"
   ]
  },
  {
   "cell_type": "markdown",
   "id": "6163f710",
   "metadata": {},
   "source": [
    "* t 검정 통계량이 2보다 훨씬 큰 21.3....을 보여주고 있다.\n",
    "* pvalue도 0에 수렴해서 \n",
    "* 강우 여부(precipitation)과 자전거 대여량(count)는 연관이 있다.\n",
    "* 즉 비가 내리지 않을 떄 자전거 대여량이 높은 것을 알 수 있다."
   ]
  },
  {
   "cell_type": "markdown",
   "id": "9c44a546",
   "metadata": {
    "tags": []
   },
   "source": [
    "#### (2) 숫자형 Feature --> 숫자형 Y (따릉이 대여 Count)\n",
    "\n",
    "<font color=\"green\">* 모든 숫자형 Feature에 대해서 Y와 비교하여 차트를 그리고 수치화 하시오.  </font>\n",
    "\n",
    "\n",
    "        1. 시각화 : 그래프를 활용한 데이터 분석\n",
    "        2. 수치화 : 상관분석\n",
    "        3. 관계 평가 (가설 검정)"
   ]
  },
  {
   "cell_type": "markdown",
   "id": "1c216b73",
   "metadata": {},
   "source": [
    "2. 시간대별 데이터와 따릉이 대여량간 분석"
   ]
  },
  {
   "cell_type": "code",
   "execution_count": 73,
   "id": "a1f26005",
   "metadata": {
    "tags": []
   },
   "outputs": [
    {
     "data": {
      "text/html": [
       "<div>\n",
       "<style scoped>\n",
       "    .dataframe tbody tr th:only-of-type {\n",
       "        vertical-align: middle;\n",
       "    }\n",
       "\n",
       "    .dataframe tbody tr th {\n",
       "        vertical-align: top;\n",
       "    }\n",
       "\n",
       "    .dataframe thead th {\n",
       "        text-align: right;\n",
       "    }\n",
       "</style>\n",
       "<table border=\"1\" class=\"dataframe\">\n",
       "  <thead>\n",
       "    <tr style=\"text-align: right;\">\n",
       "      <th></th>\n",
       "      <th>date</th>\n",
       "      <th>hour</th>\n",
       "      <th>PM10</th>\n",
       "      <th>PM2.5</th>\n",
       "      <th>ozone</th>\n",
       "      <th>temperature</th>\n",
       "      <th>precipitation</th>\n",
       "      <th>windspeed</th>\n",
       "      <th>humidity</th>\n",
       "      <th>visibility</th>\n",
       "      <th>count</th>\n",
       "      <th>month</th>\n",
       "      <th>day</th>\n",
       "      <th>time</th>\n",
       "    </tr>\n",
       "  </thead>\n",
       "  <tbody>\n",
       "    <tr>\n",
       "      <th>5822</th>\n",
       "      <td>2021-11-29</td>\n",
       "      <td>20</td>\n",
       "      <td>74.0</td>\n",
       "      <td>58.0</td>\n",
       "      <td>0.002</td>\n",
       "      <td>9.3</td>\n",
       "      <td>0</td>\n",
       "      <td>0.3</td>\n",
       "      <td>66</td>\n",
       "      <td>1193</td>\n",
       "      <td>273</td>\n",
       "      <td>11월</td>\n",
       "      <td>월요일</td>\n",
       "      <td>저녁</td>\n",
       "    </tr>\n",
       "    <tr>\n",
       "      <th>5823</th>\n",
       "      <td>2021-11-29</td>\n",
       "      <td>21</td>\n",
       "      <td>65.0</td>\n",
       "      <td>56.0</td>\n",
       "      <td>0.002</td>\n",
       "      <td>8.4</td>\n",
       "      <td>0</td>\n",
       "      <td>2.0</td>\n",
       "      <td>70</td>\n",
       "      <td>1233</td>\n",
       "      <td>228</td>\n",
       "      <td>11월</td>\n",
       "      <td>월요일</td>\n",
       "      <td>저녁</td>\n",
       "    </tr>\n",
       "    <tr>\n",
       "      <th>5824</th>\n",
       "      <td>2021-11-29</td>\n",
       "      <td>22</td>\n",
       "      <td>51.0</td>\n",
       "      <td>41.0</td>\n",
       "      <td>0.002</td>\n",
       "      <td>8.6</td>\n",
       "      <td>0</td>\n",
       "      <td>1.9</td>\n",
       "      <td>70</td>\n",
       "      <td>1250</td>\n",
       "      <td>215</td>\n",
       "      <td>11월</td>\n",
       "      <td>월요일</td>\n",
       "      <td>밤</td>\n",
       "    </tr>\n",
       "    <tr>\n",
       "      <th>5825</th>\n",
       "      <td>2021-11-29</td>\n",
       "      <td>23</td>\n",
       "      <td>43.0</td>\n",
       "      <td>35.0</td>\n",
       "      <td>0.001</td>\n",
       "      <td>8.2</td>\n",
       "      <td>0</td>\n",
       "      <td>2.1</td>\n",
       "      <td>71</td>\n",
       "      <td>1262</td>\n",
       "      <td>125</td>\n",
       "      <td>11월</td>\n",
       "      <td>월요일</td>\n",
       "      <td>밤</td>\n",
       "    </tr>\n",
       "    <tr>\n",
       "      <th>5826</th>\n",
       "      <td>2021-11-30</td>\n",
       "      <td>0</td>\n",
       "      <td>39.0</td>\n",
       "      <td>31.0</td>\n",
       "      <td>0.004</td>\n",
       "      <td>7.9</td>\n",
       "      <td>0</td>\n",
       "      <td>2.3</td>\n",
       "      <td>71</td>\n",
       "      <td>1483</td>\n",
       "      <td>95</td>\n",
       "      <td>11월</td>\n",
       "      <td>화요일</td>\n",
       "      <td>새벽</td>\n",
       "    </tr>\n",
       "  </tbody>\n",
       "</table>\n",
       "</div>"
      ],
      "text/plain": [
       "           date  hour  PM10  PM2.5  ozone  temperature  precipitation  \\\n",
       "5822 2021-11-29    20  74.0   58.0  0.002          9.3              0   \n",
       "5823 2021-11-29    21  65.0   56.0  0.002          8.4              0   \n",
       "5824 2021-11-29    22  51.0   41.0  0.002          8.6              0   \n",
       "5825 2021-11-29    23  43.0   35.0  0.001          8.2              0   \n",
       "5826 2021-11-30     0  39.0   31.0  0.004          7.9              0   \n",
       "\n",
       "      windspeed  humidity  visibility  count month  day time  \n",
       "5822        0.3        66        1193    273   11월  월요일   저녁  \n",
       "5823        2.0        70        1233    228   11월  월요일   저녁  \n",
       "5824        1.9        70        1250    215   11월  월요일    밤  \n",
       "5825        2.1        71        1262    125   11월  월요일    밤  \n",
       "5826        2.3        71        1483     95   11월  화요일   새벽  "
      ]
     },
     "execution_count": 73,
     "metadata": {},
     "output_type": "execute_result"
    }
   ],
   "source": [
    "# 시간대(hour)를  새벽(ex. 0 <= < 6), 아침(ex. 6 <= < 9), 오전 (ex. 9 <= < 12), 점심 (ex. 12 <= < 14), 오후(ex. 14 <= < 18), \n",
    "# 저녁 (ex. 18 <= < 22), 밤 (ex. 22 <=  < 24)으로 구분한다.\n",
    "# 조건에 따라 값 변경\n",
    "def apply_condition(value):\n",
    "    if 0 <= value < 6:\n",
    "        return '새벽'\n",
    "    elif 6 <= value < 9:\n",
    "        return \"아침\"\n",
    "    elif 9 <= value < 12:\n",
    "        return \"오전\"\n",
    "    elif 12 <= value < 14:\n",
    "        return \"점심\"\n",
    "    elif 14 <= value < 18:\n",
    "        return \"오후\"\n",
    "    elif 18 <= value < 22:\n",
    "        return \"저녁\"\n",
    "    else:\n",
    "        return \"밤\"\n",
    "df[\"time\"] = df[\"hour\"].apply(apply_condition)\n",
    "df.tail()"
   ]
  },
  {
   "cell_type": "code",
   "execution_count": 74,
   "id": "2fc564ba-d218-4c12-90b6-fbc50afadaa1",
   "metadata": {
    "tags": []
   },
   "outputs": [
    {
     "data": {
      "image/png": "[encoded data removed]",
      "text/plain": [
       "<Figure size 640x480 with 1 Axes>"
      ]
     },
     "metadata": {},
     "output_type": "display_data"
    },
    {
     "data": {
      "text/plain": [
       "F_onewayResult(statistic=971.6523606007573, pvalue=0.0)"
      ]
     },
     "execution_count": 74,
     "metadata": {},
     "output_type": "execute_result"
    }
   ],
   "source": [
    "# 시각화\n",
    "# x축 : 새벽, 아침, 오전, 점심, 오후, 저녁\n",
    "# y축 : 자전거 대여량\n",
    "sns.barplot(x=df[\"time\"], y=df[\"count\"])\n",
    "plt.show()\n",
    "\n",
    "# 수치화\n",
    "L = []\n",
    "for element in df[\"time\"].unique():\n",
    "    L.append(df.loc[df[\"time\"] == element, \"count\"])\n",
    "stats.f_oneway(*L)"
   ]
  },
  {
   "cell_type": "markdown",
   "id": "0bd93a0e",
   "metadata": {},
   "source": [
    "* 오후, 저녁 (14시 ~ 21시)이 자전거 대여량이 압도적으로 높은 것을 알 수 있다."
   ]
  },
  {
   "cell_type": "markdown",
   "id": "3aa983af-4a67-48f2-b1bc-23dc17a8494b",
   "metadata": {},
   "source": [
    "3. 날짜(일요일, 월요일 ... 금요일)와 시간대별을 바탕으로 자전거 대여량 평균 확인\n"
   ]
  },
  {
   "cell_type": "code",
   "execution_count": 75,
   "id": "e544dfe5-0526-459f-9808-0a5d8aa2c62d",
   "metadata": {
    "tags": []
   },
   "outputs": [
    {
     "data": {
      "image/png": "[encoded data removed]",
      "text/plain": [
       "<Figure size 800x600 with 2 Axes>"
      ]
     },
     "metadata": {},
     "output_type": "display_data"
    }
   ],
   "source": [
    "# 피벗 테이블 생성\n",
    "pivot_table = df.pivot_table(index=\"day\", columns='time', values='count', aggfunc='mean')\n",
    "\n",
    "# 히트맵 그리기\n",
    "plt.figure(figsize=(8, 6))\n",
    "sns.heatmap(pivot_table, annot=True, cmap='YlGnBu', fmt='.1f')  # 실수 형식으로 표현 (.1f)\n",
    "plt.title('Pivot Table Heatmap')\n",
    "plt.show()"
   ]
  },
  {
   "cell_type": "markdown",
   "id": "0cb3aa38-6183-445d-bd0d-98c1a2fd33d3",
   "metadata": {},
   "source": [
    "* 수요일, 목요일, 금요일 저녁(18시 ~ 21시)에 자전거 대여량이 높다"
   ]
  },
  {
   "cell_type": "markdown",
   "id": "b1d1461d",
   "metadata": {},
   "source": [
    "3. 온도 데이터와 따릉이 대여량간 분석"
   ]
  },
  {
   "cell_type": "code",
   "execution_count": 76,
   "id": "2fcef2cb",
   "metadata": {
    "tags": []
   },
   "outputs": [],
   "source": [
    "# 온도를  쌀쌀한 날씨: (-3.5 <= < 0), 서늘한 날씨(0 <= < 10), 따뜻한 날씨: (10 <= < 25), 더운 날씨: (25 <= < 30), \n",
    "# 매우 더운 날씨: (30 <= < 36.4)로 분류하여 온도가 어떠한 겨울에 자전거 대여량이 높은지 확인한다.\n",
    "def category_temperature(temperature):\n",
    "    if -3.5 <= temperature < 0:\n",
    "        return \"쌀쌀한 날씨\"\n",
    "    elif 0 <= temperature < 10:\n",
    "        return \"서늘한 날씨\"\n",
    "    elif 10 <= temperature < 25:\n",
    "        return \"따뜻한 날씨\"\n",
    "    elif 25 <= temperature < 30:\n",
    "        return \"더운 날씨\"\n",
    "    else:\n",
    "        return \"매우 더운 날씨\"\n",
    "df[\"weather\"] = df[\"temperature\"].apply(category_temperature)"
   ]
  },
  {
   "cell_type": "code",
   "execution_count": 77,
   "id": "ec53a375-96ae-462d-ad79-20a6f7df6a20",
   "metadata": {
    "tags": []
   },
   "outputs": [
    {
     "data": {
      "image/png": "[encoded data removed]",
      "text/plain": [
       "<Figure size 640x480 with 1 Axes>"
      ]
     },
     "metadata": {},
     "output_type": "display_data"
    },
    {
     "data": {
      "text/plain": [
       "F_onewayResult(statistic=121.55416173385122, pvalue=8.911711252667439e-100)"
      ]
     },
     "execution_count": 77,
     "metadata": {},
     "output_type": "execute_result"
    }
   ],
   "source": [
    "# 시각화\n",
    "# x축 : 쌀쌀한 날씨, 서늘한 날씨, ... 매우 더운 날씨\n",
    "# y축 : 쌀쌀한 날씨 별 자전거 대여량 합 평균, ...., 매우 더운 날씨 별 자전거 대여량 합 평균\n",
    "sns.barplot(x=df[\"weather\"], y=df[\"count\"])\n",
    "plt.show()\n",
    "\n",
    "# 수치화\n",
    "L = []\n",
    "for element in df[\"weather\"].unique():\n",
    "    L.append(df.loc[df[\"weather\"] == element, \"count\"])\n",
    "stats.f_oneway(*L)"
   ]
  },
  {
   "cell_type": "markdown",
   "id": "182c8c7a-f8c7-4087-aa5f-b440d7f6f18e",
   "metadata": {},
   "source": [
    "* 더운 날씨, 매우 더운 날씨(25 ~ 36.4)에 자전거 대여량이 압도적으로 많다"
   ]
  },
  {
   "cell_type": "markdown",
   "id": "94e422b5-a714-46ac-871c-7fc3361757b5",
   "metadata": {},
   "source": [
    "4. 날짜(4월, 5월 ... 11월), 날씨(쌀쌀한 날씨, 서늘한 날씨, ... 매우 더운 날씨)를 바탕으로 자전거 대여량 평균 분석"
   ]
  },
  {
   "cell_type": "code",
   "execution_count": 78,
   "id": "038d0da6-ce0b-40a5-8fd4-9a292874b04d",
   "metadata": {
    "tags": []
   },
   "outputs": [
    {
     "data": {
      "image/png": "[encoded data removed]",
      "text/plain": [
       "<Figure size 800x600 with 2 Axes>"
      ]
     },
     "metadata": {},
     "output_type": "display_data"
    }
   ],
   "source": [
    "# 피벗 테이블 생성\n",
    "pivot_table = df.pivot_table(index=\"month\", columns='weather', values='count', aggfunc='mean')\n",
    "\n",
    "# 히트맵 그리기\n",
    "plt.figure(figsize=(8, 6))\n",
    "sns.heatmap(pivot_table, annot=True, cmap='YlGnBu', fmt='.1f')  # 실수 형식으로 표현 (.1f)\n",
    "plt.title('Pivot Table Heatmap')\n",
    "plt.show()"
   ]
  },
  {
   "cell_type": "markdown",
   "id": "96ff2c2d-c326-49c6-b303-30c3897838cd",
   "metadata": {},
   "source": [
    "* 더운 날씨인 25 ~ 29도 5월에 자전거 대여량 평균 수가 매우 많다.\n",
    "* 더운 날씨인 25 ~ 29도 9월에 자전거 대여량 평균 수가 매우 많다.\n",
    "* 더운 날씨인 25 ~ 29도인 10월에 자전거 대여량 평균 수가 매우 많다."
   ]
  },
  {
   "cell_type": "markdown",
   "id": "2af73f1b",
   "metadata": {},
   "source": [
    "4. 풍속 데이터와 따릉이 대여량간 분석"
   ]
  },
  {
   "cell_type": "code",
   "execution_count": 85,
   "id": "c0075623",
   "metadata": {},
   "outputs": [],
   "source": [
    "# 풍속을 바람 없음(0 <= < 0.3), 약한 바람: (0.3 <= < 3.4), 약간 강한 바람: (3.4 <= < 8.0), 강한 바람: (8.0 <= < 10.0)으로 분류하여 \n",
    "# 어떠한 풍속일 떄 자전거 대여량이 높은지 확인한다.\n",
    "def category_wind(wind):\n",
    "    if 0 <= wind < 0.3:\n",
    "        return \"바람 없음\"\n",
    "    elif 0.3 <= wind < 3.4:\n",
    "        return \"약한 바람\"\n",
    "    elif 3.4 <= wind < 8.0:\n",
    "        return \"약간 강한 바람\"\n",
    "    else:\n",
    "        return \"강한 바람\"\n",
    "df[\"windStrength\"] = df[\"windspeed\"].apply(category_wind)"
   ]
  },
  {
   "cell_type": "code",
   "execution_count": 89,
   "id": "81b13949-1036-4808-ae1c-9d349fce9f88",
   "metadata": {
    "tags": []
   },
   "outputs": [
    {
     "data": {
      "image/png": "[encoded data removed]",
      "text/plain": [
       "<Figure size 640x480 with 1 Axes>"
      ]
     },
     "metadata": {},
     "output_type": "display_data"
    },
    {
     "data": {
      "text/plain": [
       "F_onewayResult(statistic=41.54021634414594, pvalue=1.4897443950234392e-26)"
      ]
     },
     "execution_count": 89,
     "metadata": {},
     "output_type": "execute_result"
    }
   ],
   "source": [
    "# 시각화\n",
    "# x축 : 약한 바함, 강한 바람 ..\n",
    "# y축 : 약한 바람일 떄 자전거 대여량 평균 수, 강한 바람일 떄 자전거 대여량 평균 수 \n",
    "sns.barplot(x=df[\"windStrength\"], y=df[\"count\"])\n",
    "plt.show()\n",
    "\n",
    "# 수치화\n",
    "L = []\n",
    "for element in df[\"windStrength\"].unique():\n",
    "    L.append(df.loc[df[\"windStrength\"] == element, \"count\"])\n",
    "stats.f_oneway(*L)"
   ]
  },
  {
   "cell_type": "markdown",
   "id": "3573ed0e",
   "metadata": {},
   "source": [
    "* 약한 강한 바람(3.4 ~ 7.9)일 떄 자전거 대여량이 평균적으로 높다."
   ]
  },
  {
   "cell_type": "markdown",
   "id": "719f0616-e21d-4aa6-a9f6-9c4029749ffa",
   "metadata": {},
   "source": [
    "5. 온도(ex. 더운 날씨, 매우 더운 날씨)와 풍속(ex. 약한 바람, 약간 강한 바람) 연관성 찾기"
   ]
  },
  {
   "cell_type": "code",
   "execution_count": 90,
   "id": "28a7a636-2685-4876-b6fc-33aaed9e8e66",
   "metadata": {
    "tags": []
   },
   "outputs": [
    {
     "data": {
      "text/html": [
       "<div>\n",
       "<style scoped>\n",
       "    .dataframe tbody tr th:only-of-type {\n",
       "        vertical-align: middle;\n",
       "    }\n",
       "\n",
       "    .dataframe tbody tr th {\n",
       "        vertical-align: top;\n",
       "    }\n",
       "\n",
       "    .dataframe thead th {\n",
       "        text-align: right;\n",
       "    }\n",
       "</style>\n",
       "<table border=\"1\" class=\"dataframe\">\n",
       "  <thead>\n",
       "    <tr style=\"text-align: right;\">\n",
       "      <th></th>\n",
       "      <th>date</th>\n",
       "      <th>hour</th>\n",
       "      <th>PM10</th>\n",
       "      <th>PM2.5</th>\n",
       "      <th>ozone</th>\n",
       "      <th>temperature</th>\n",
       "      <th>precipitation</th>\n",
       "      <th>windspeed</th>\n",
       "      <th>humidity</th>\n",
       "      <th>visibility</th>\n",
       "      <th>count</th>\n",
       "      <th>month</th>\n",
       "      <th>day</th>\n",
       "      <th>time</th>\n",
       "      <th>weather</th>\n",
       "      <th>windStrength</th>\n",
       "    </tr>\n",
       "  </thead>\n",
       "  <tbody>\n",
       "    <tr>\n",
       "      <th>0</th>\n",
       "      <td>2021-04-01</td>\n",
       "      <td>1</td>\n",
       "      <td>42.0</td>\n",
       "      <td>21.0</td>\n",
       "      <td>0.002</td>\n",
       "      <td>13.1</td>\n",
       "      <td>0</td>\n",
       "      <td>1.4</td>\n",
       "      <td>49</td>\n",
       "      <td>2000</td>\n",
       "      <td>46</td>\n",
       "      <td>4월</td>\n",
       "      <td>목요일</td>\n",
       "      <td>새벽</td>\n",
       "      <td>따뜻한 날씨</td>\n",
       "      <td>약한 바람</td>\n",
       "    </tr>\n",
       "    <tr>\n",
       "      <th>1</th>\n",
       "      <td>2021-04-01</td>\n",
       "      <td>2</td>\n",
       "      <td>41.0</td>\n",
       "      <td>21.0</td>\n",
       "      <td>0.003</td>\n",
       "      <td>12.4</td>\n",
       "      <td>0</td>\n",
       "      <td>2.1</td>\n",
       "      <td>53</td>\n",
       "      <td>2000</td>\n",
       "      <td>40</td>\n",
       "      <td>4월</td>\n",
       "      <td>목요일</td>\n",
       "      <td>새벽</td>\n",
       "      <td>따뜻한 날씨</td>\n",
       "      <td>약한 바람</td>\n",
       "    </tr>\n",
       "    <tr>\n",
       "      <th>2</th>\n",
       "      <td>2021-04-01</td>\n",
       "      <td>3</td>\n",
       "      <td>30.0</td>\n",
       "      <td>13.0</td>\n",
       "      <td>0.023</td>\n",
       "      <td>13.1</td>\n",
       "      <td>0</td>\n",
       "      <td>3.4</td>\n",
       "      <td>43</td>\n",
       "      <td>2000</td>\n",
       "      <td>31</td>\n",
       "      <td>4월</td>\n",
       "      <td>목요일</td>\n",
       "      <td>새벽</td>\n",
       "      <td>따뜻한 날씨</td>\n",
       "      <td>약간 강한 바람</td>\n",
       "    </tr>\n",
       "    <tr>\n",
       "      <th>3</th>\n",
       "      <td>2021-04-01</td>\n",
       "      <td>4</td>\n",
       "      <td>27.0</td>\n",
       "      <td>12.0</td>\n",
       "      <td>0.028</td>\n",
       "      <td>13.0</td>\n",
       "      <td>0</td>\n",
       "      <td>3.1</td>\n",
       "      <td>44</td>\n",
       "      <td>2000</td>\n",
       "      <td>12</td>\n",
       "      <td>4월</td>\n",
       "      <td>목요일</td>\n",
       "      <td>새벽</td>\n",
       "      <td>따뜻한 날씨</td>\n",
       "      <td>약한 바람</td>\n",
       "    </tr>\n",
       "    <tr>\n",
       "      <th>4</th>\n",
       "      <td>2021-04-01</td>\n",
       "      <td>5</td>\n",
       "      <td>29.0</td>\n",
       "      <td>14.0</td>\n",
       "      <td>0.008</td>\n",
       "      <td>13.0</td>\n",
       "      <td>0</td>\n",
       "      <td>2.9</td>\n",
       "      <td>44</td>\n",
       "      <td>2000</td>\n",
       "      <td>30</td>\n",
       "      <td>4월</td>\n",
       "      <td>목요일</td>\n",
       "      <td>새벽</td>\n",
       "      <td>따뜻한 날씨</td>\n",
       "      <td>약한 바람</td>\n",
       "    </tr>\n",
       "  </tbody>\n",
       "</table>\n",
       "</div>"
      ],
      "text/plain": [
       "        date  hour  PM10  PM2.5  ozone  temperature  precipitation  windspeed  \\\n",
       "0 2021-04-01     1  42.0   21.0  0.002         13.1              0        1.4   \n",
       "1 2021-04-01     2  41.0   21.0  0.003         12.4              0        2.1   \n",
       "2 2021-04-01     3  30.0   13.0  0.023         13.1              0        3.4   \n",
       "3 2021-04-01     4  27.0   12.0  0.028         13.0              0        3.1   \n",
       "4 2021-04-01     5  29.0   14.0  0.008         13.0              0        2.9   \n",
       "\n",
       "   humidity  visibility  count month  day time weather windStrength  \n",
       "0        49        2000     46    4월  목요일   새벽  따뜻한 날씨        약한 바람  \n",
       "1        53        2000     40    4월  목요일   새벽  따뜻한 날씨        약한 바람  \n",
       "2        43        2000     31    4월  목요일   새벽  따뜻한 날씨     약간 강한 바람  \n",
       "3        44        2000     12    4월  목요일   새벽  따뜻한 날씨        약한 바람  \n",
       "4        44        2000     30    4월  목요일   새벽  따뜻한 날씨        약한 바람  "
      ]
     },
     "execution_count": 90,
     "metadata": {},
     "output_type": "execute_result"
    }
   ],
   "source": [
    "df.head()"
   ]
  },
  {
   "cell_type": "markdown",
   "id": "7f65d800",
   "metadata": {},
   "source": [
    "5. 습도 데이터와 따릉이 대여량간 분석"
   ]
  },
  {
   "cell_type": "code",
   "execution_count": 104,
   "id": "77bd6696",
   "metadata": {},
   "outputs": [],
   "source": [
    "# 습도(humidity) 건조: (19 <=  < 41), 보통: (41 <=  < 60), 습함: (60 <= < 80), 매우 습함: (80 <= < 101)으로 분류하여\n",
    "#어떠한 습도일 떄 자전거 대여량이 높은지 확인한다.\n",
    "def category_humidity(humidity):\n",
    "    if 19 <= humidity < 41:\n",
    "        return \"건조\"\n",
    "    elif 41 <= humidity < 60:\n",
    "        return \"보통\"\n",
    "    elif 60 <= humidity < 80:\n",
    "        return \"습함\"\n",
    "    elif 80 <= humidity < 101:\n",
    "        return \"매우 습함\"\n",
    "df[\"humidCategory\"] = df[\"humidity\"].apply(category_humidity)"
   ]
  },
  {
   "cell_type": "code",
   "execution_count": null,
   "id": "c60b6043-826f-46fe-8c62-83cc3420f67a",
   "metadata": {
    "tags": []
   },
   "outputs": [],
   "source": []
  },
  {
   "cell_type": "code",
   "execution_count": 105,
   "id": "005a710e-c3a7-4e56-9be9-a751ffc490df",
   "metadata": {
    "tags": []
   },
   "outputs": [
    {
     "data": {
      "image/png": "[encoded data removed]",
      "text/plain": [
       "<Figure size 640x480 with 1 Axes>"
      ]
     },
     "metadata": {},
     "output_type": "display_data"
    },
    {
     "data": {
      "text/plain": [
       "F_onewayResult(statistic=521.498087710674, pvalue=3.492954240514575e-300)"
      ]
     },
     "execution_count": 105,
     "metadata": {},
     "output_type": "execute_result"
    }
   ],
   "source": [
    "# 시각화\n",
    "# x축 : 건조, 보통, 습함, 매우 습합\n",
    "# y축 : 건조할 떄 자전거 대여량 평균 ...\n",
    "sns.barplot(x=df[\"humidCategory\"], y=df[\"count\"], width=0.5)\n",
    "plt.show()\n",
    "\n",
    "# 수치화\n",
    "L = []\n",
    "for element in df[\"humidCategory\"].unique():\n",
    "    L.append(df.loc[df[\"humidCategory\"] == element, \"count\"])\n",
    "stats.f_oneway(*L)"
   ]
  },
  {
   "cell_type": "markdown",
   "id": "a5087b02-568d-49c0-a2a3-eb3dab0db89c",
   "metadata": {},
   "source": [
    "* 습도가 보통 ~ 건조 (19 ~ 59)일 떄 자전거 대여량 평균이 높다."
   ]
  },
  {
   "cell_type": "markdown",
   "id": "9e967685-4eb8-4caa-8498-1180dee0e7bc",
   "metadata": {},
   "source": [
    "5. 날짜(ex. 4월, 6월, 9월...), 습도(보통, 건조, ... ) 간 분석"
   ]
  },
  {
   "cell_type": "code",
   "execution_count": 107,
   "id": "760b6d63-0b33-463e-ba74-cff38e5fb281",
   "metadata": {
    "tags": []
   },
   "outputs": [
    {
     "data": {
      "image/png": "[encoded data removed]",
      "text/plain": [
       "<Figure size 640x480 with 3 Axes>"
      ]
     },
     "metadata": {},
     "output_type": "display_data"
    },
    {
     "data": {
      "text/plain": [
       "Chi2ContingencyResult(statistic=983.6613500731522, pvalue=8.453111066744773e-195, dof=21, expected_freq=array([[ 49.15737086, 224.46404668, 176.2004462 , 294.17813626],\n",
       "       [ 46.05199931, 210.28419427, 165.06950403, 275.59430239],\n",
       "       [ 47.37343401, 216.31817402, 169.80607517, 283.5023168 ],\n",
       "       [ 49.09129912, 224.16234769, 175.96361764, 293.78273554],\n",
       "       [ 47.57164922, 217.22327098, 170.51656084, 284.68851896],\n",
       "       [ 49.15737086, 224.46404668, 176.2004462 , 294.17813626],\n",
       "       [ 49.15737086, 224.46404668, 176.2004462 , 294.17813626],\n",
       "       [ 47.43950575, 216.619873  , 170.04290372, 283.89771752]]))"
      ]
     },
     "execution_count": 107,
     "metadata": {},
     "output_type": "execute_result"
    }
   ],
   "source": [
    "from statsmodels.graphics.mosaicplot import mosaic\n",
    "# 시각화\n",
    "mosaic(df, [\"month\", \"humidCategory\"])\n",
    "plt.show()\n",
    "\n",
    "# 수치화\n",
    "cross_table = pd.crosstab(df[\"month\"], df[\"humidCategory\"])\n",
    "stats.chi2_contingency(cross_table)"
   ]
  },
  {
   "cell_type": "markdown",
   "id": "f5b073ac-0629-431f-aaef-5940be28cde1",
   "metadata": {},
   "source": [
    "* 날짜(4월, 5월 .. 11월)와 습도(건조, 보통)은 강한 연관 관계를 가지고 있다."
   ]
  },
  {
   "cell_type": "code",
   "execution_count": 108,
   "id": "7b7c14a9-7242-4f7f-b40a-cf9431abba78",
   "metadata": {
    "tags": []
   },
   "outputs": [
    {
     "data": {
      "image/png": "[encoded data removed]",
      "text/plain": [
       "<Figure size 800x600 with 2 Axes>"
      ]
     },
     "metadata": {},
     "output_type": "display_data"
    }
   ],
   "source": [
    "pivot_table = df.pivot_table(index=\"month\", columns='humidCategory', values='count', aggfunc='mean')\n",
    "\n",
    "# 히트맵 그리기\n",
    "plt.figure(figsize=(8, 6))\n",
    "sns.heatmap(pivot_table, annot=True, cmap='YlGnBu', fmt='.1f')  # 실수 형식으로 표현 (.1f)\n",
    "plt.title('Pivot Table Heatmap')\n",
    "plt.show()"
   ]
  },
  {
   "cell_type": "markdown",
   "id": "8e77c167-95f1-408b-8973-1e609140b813",
   "metadata": {},
   "source": [
    "* 9월 습도가 보통이거나 건조할 떄 자전거 대여량이 가장 많은 것을 알 수 있다."
   ]
  },
  {
   "cell_type": "markdown",
   "id": "58d72d38-2d61-42b6-87c4-b365b38f1ca7",
   "metadata": {},
   "source": [
    "5. 시간대(오전, 오후, 저녁...) 습도(보통, 건조) 연관 분석"
   ]
  },
  {
   "cell_type": "code",
   "execution_count": 109,
   "id": "600064d0-dbfc-43ba-8431-2ae5f863cf80",
   "metadata": {
    "tags": []
   },
   "outputs": [
    {
     "data": {
      "image/png": "[encoded data removed]",
      "text/plain": [
       "<Figure size 640x480 with 3 Axes>"
      ]
     },
     "metadata": {},
     "output_type": "display_data"
    },
    {
     "data": {
      "text/plain": [
       "Chi2ContingencyResult(statistic=1568.5402670877147, pvalue=0.0, dof=18, expected_freq=array([[ 32.11086322, 146.62570791, 115.09867857, 192.1647503 ],\n",
       "       [ 96.06830273, 438.67032778, 344.34872147, 574.91264802],\n",
       "       [ 48.1002231 , 219.63686288, 172.41118929, 287.85172473],\n",
       "       [ 48.16629483, 219.93856187, 172.64801785, 288.24712545],\n",
       "       [ 64.22172645, 293.25141582, 230.19735713, 384.3295006 ],\n",
       "       [ 64.22172645, 293.25141582, 230.19735713, 384.3295006 ],\n",
       "       [ 32.11086322, 146.62570791, 115.09867857, 192.1647503 ]]))"
      ]
     },
     "execution_count": 109,
     "metadata": {},
     "output_type": "execute_result"
    }
   ],
   "source": [
    "# 시각화\n",
    "mosaic(df, [\"time\", \"humidCategory\"])\n",
    "plt.show()\n",
    "\n",
    "# 수치화\n",
    "cross_table = pd.crosstab(df[\"time\"], df[\"humidCategory\"])\n",
    "stats.chi2_contingency(cross_table)"
   ]
  },
  {
   "cell_type": "code",
   "execution_count": 111,
   "id": "fd0ebc0f-85a5-474f-8c06-75e0b0dd8c1b",
   "metadata": {
    "tags": []
   },
   "outputs": [
    {
     "data": {
      "image/png": "[encoded data removed]",
      "text/plain": [
       "<Figure size 800x600 with 2 Axes>"
      ]
     },
     "metadata": {},
     "output_type": "display_data"
    }
   ],
   "source": [
    "pivot_table = df.pivot_table(index=\"time\", columns='humidCategory', values='count', aggfunc='mean')\n",
    "\n",
    "# 히트맵 그리기\n",
    "plt.figure(figsize=(8, 6))\n",
    "sns.heatmap(pivot_table, annot=True, cmap='YlGnBu', fmt='.1f')  # 실수 형식으로 표현 (.1f)\n",
    "plt.title('Pivot Table Heatmap')\n",
    "plt.show()"
   ]
  },
  {
   "cell_type": "markdown",
   "id": "baf3c5a1-b1c1-446e-a839-68b0e38ada2d",
   "metadata": {},
   "source": [
    "* 주로 오후 ~ 저녁이면서 습도가 보통 ~ 건조일 떄 자전거 대여량 평균이 높은 것을 재확인했다."
   ]
  },
  {
   "cell_type": "markdown",
   "id": "c46fccb5",
   "metadata": {},
   "source": [
    "6. 시정 데이터와 따릉이 대여량간 분석"
   ]
  },
  {
   "cell_type": "code",
   "execution_count": 81,
   "id": "4deb3345",
   "metadata": {},
   "outputs": [],
   "source": [
    "#데이터 타입에 주의하여 이변량 분석을 해보세요"
   ]
  },
  {
   "cell_type": "markdown",
   "id": "dfa0ed85",
   "metadata": {},
   "source": []
  },
  {
   "cell_type": "markdown",
   "id": "3859ef18",
   "metadata": {},
   "source": [
    "7. 오존 데이터와 따릉이 대여량간 분석"
   ]
  },
  {
   "cell_type": "code",
   "execution_count": 82,
   "id": "33f2a061",
   "metadata": {},
   "outputs": [],
   "source": [
    "#데이터 타입에 주의하여 이변량 분석을 해보세요"
   ]
  },
  {
   "cell_type": "markdown",
   "id": "7feca2c1",
   "metadata": {},
   "source": []
  },
  {
   "cell_type": "markdown",
   "id": "486db6db",
   "metadata": {},
   "source": [
    "8. 미세먼지 농도 데이터와 따릉이 대여량간 분석"
   ]
  },
  {
   "cell_type": "code",
   "execution_count": 112,
   "id": "d69657aa",
   "metadata": {},
   "outputs": [],
   "source": [
    "# 미세먼지(PM10)을 좋음 (0 <= < 31), 보통 (31 <=  < 81), 나쁨 (81 <=  < 151), 매우 나쁨 (151 <=  < 250), 위험 (250 <= < 828)으로 분류하여\n",
    "# 미세먼지가 어떠한 경우에 자전거 대여량이 높은가?\n",
    "def category_PM10(PM10):\n",
    "    if 0 <= PM10 < 31:\n",
    "        return \"좋음\"\n",
    "    elif 31 <= PM10 < 81:\n",
    "        return \"보통\"\n",
    "    elif 81 <= PM10 < 151:\n",
    "        return \"나쁨\"\n",
    "    else:\n",
    "        return \"매우 나쁨\"\n",
    "df[\"category_PM10\"] = df[\"PM10\"].apply(category_PM10)"
   ]
  },
  {
   "cell_type": "code",
   "execution_count": 115,
   "id": "515fd254-ccbd-410d-a4d7-292dfaae9e7a",
   "metadata": {
    "tags": []
   },
   "outputs": [
    {
     "data": {
      "image/png": "[encoded data removed]",
      "text/plain": [
       "<Figure size 640x480 with 1 Axes>"
      ]
     },
     "metadata": {},
     "output_type": "display_data"
    },
    {
     "data": {
      "text/plain": [
       "F_onewayResult(statistic=18.396308492448572, pvalue=7.0933081064829544e-12)"
      ]
     },
     "execution_count": 115,
     "metadata": {},
     "output_type": "execute_result"
    }
   ],
   "source": [
    "# 시각화\n",
    "# x축 : 미세먼지 보통, 좋음, 나쁨, 매우 나쁨\n",
    "# y축 : 미세먼지 보통일 떄 자전거 대여량 평균 수 ...\n",
    "sns.barplot(x=df[\"category_PM10\"], y=df[\"count\"])\n",
    "plt.show()\n",
    "\n",
    "# 수치화\n",
    "L = []\n",
    "for element in df[\"category_PM10\"].unique():\n",
    "    L.append(df.loc[df[\"category_PM10\"] == element, \"count\"])\n",
    "stats.f_oneway(*L)"
   ]
  },
  {
   "cell_type": "markdown",
   "id": "8bf60493-eb44-4e70-a297-c7f30a350ad7",
   "metadata": {},
   "source": [
    "* 미세먼지 보통일 때 자전거 평균 대여량 수가 높으나\n",
    "* 딱히 미세먼지 정도가 자전거 대여량과 많이 연관되어 있는 것은 아닌 것 같다."
   ]
  },
  {
   "cell_type": "code",
   "execution_count": null,
   "id": "46c8796a-1986-4c93-b4da-4ecf98ba297f",
   "metadata": {},
   "outputs": [],
   "source": []
  },
  {
   "cell_type": "markdown",
   "id": "72c0cb40",
   "metadata": {},
   "source": [
    "9. 초미세먼지 농도 데이터와 따릉이 대여량간 분석"
   ]
  },
  {
   "cell_type": "code",
   "execution_count": 84,
   "id": "6751a594",
   "metadata": {},
   "outputs": [],
   "source": [
    "#데이터 타입에 주의하여 이변량 분석을 해보세요"
   ]
  },
  {
   "cell_type": "markdown",
   "id": "f2aac6f1",
   "metadata": {},
   "source": []
  },
  {
   "cell_type": "markdown",
   "id": "98aeed75",
   "metadata": {},
   "source": [
    "### [Step5] 가설 검정"
   ]
  },
  {
   "cell_type": "markdown",
   "id": "8b1f5479",
   "metadata": {},
   "source": [
    "#### <font color='green'>1. 강한 관계의 변수 (대립가설 채택)</font>"
   ]
  },
  {
   "cell_type": "markdown",
   "id": "656b4439",
   "metadata": {},
   "source": [
    "#### <font color='green'>2. 약한 관계의 변수</font>\n"
   ]
  },
  {
   "cell_type": "markdown",
   "id": "38b18e41",
   "metadata": {},
   "source": [
    "#### <font color='green'>3. 관계 없는 변수 (귀무가설 채택)</font>\n"
   ]
  },
  {
   "cell_type": "markdown",
   "id": "51c63e70",
   "metadata": {
    "tags": []
   },
   "source": [
    "### [Step6] Insight 도출 (우선 고려 사항)"
   ]
  },
  {
   "cell_type": "markdown",
   "id": "463d041a",
   "metadata": {},
   "source": [
    " 출근, 퇴근 시 사람들이 자전거를 많이 이용한다.<br>\n",
    " 따라서 아침에는 거주지역 주변에 자전거를 많이 배치하고<br>\n",
    " 오후에서 저녁 넘어가는 시점에 회사 주변에 자전거를 많이 배치한다.<br>\n",
    " \n",
    " 25도가 넘어가는 더운 날씨일 떄 사람들은 자전거를 많이 이용한다.<br>\n",
    " 따라서 서늘한 날씨 (0 ~ 10)일 떄 자전거를 전체적으로 수리하고, <br>\n",
    " 따뜻한 날씨, 더운 날씨일 떄 사람들이 자전거를 문제 없이 사용하도록 해야 한다.<br>\n",
    "  \n",
    " 온도와 연관되는 습도<br>\n",
    " 습도가 보통, 건조일 떄 즉 기온이 어느정도 있을 떄  자전거를 많이 이용하는 것을 알 수 있다.<br>\n"
   ]
  },
  {
   "cell_type": "markdown",
   "id": "bc97eb61-b3c3-4e60-9f53-6f6bad5b6b2c",
   "metadata": {},
   "source": [
    "## [Step6] Insight 도출 (차기 고려 사항)"
   ]
  },
  {
   "cell_type": "markdown",
   "id": "9e182591-aa6d-4d7b-9011-4f0068744740",
   "metadata": {},
   "source": [
    "4월, 6월  9월, 10월에 자전거를 많이 이용한다.\n",
    "\n",
    "수요일, 목요일, 금요일에 자전거를 많이 이용한다.\n",
    "\n",
    "기본적으로 비가 오지 않아야 한다.\n",
    "\n",
    "미세먼지가 이슈가 되지 않는 농도가 자전거 대여가 높음을 알 수 있다.\n",
    "\n",
    "사람들이 바람이 어느정도 불 떄 라고 느끼는 풍속 정도가 자전거 대여가 높음을 알 수 있다.\n"
   ]
  }
 ],
 "metadata": {
  "colab": {
   "name": "1. 데이터 불러오기 및 분석(EDA).ipynb",
   "provenance": []
  },
  "kernelspec": {
   "display_name": "Python 3 (ipykernel)",
   "language": "python",
   "name": "python3"
  },
  "language_info": {
   "codemirror_mode": {
    "name": "ipython",
    "version": 3
   },
   "file_extension": ".py",
   "mimetype": "text/x-python",
   "name": "python",
   "nbconvert_exporter": "python",
   "pygments_lexer": "ipython3",
   "version": "3.11.3"
  },
  "vscode": {
   "interpreter": {
    "hash": "cf92aa13fedf815d5c8dd192b8d835913fde3e8bc926b2a0ad6cc74ef2ba3ca2"
   }
  }
 },
 "nbformat": 4,
 "nbformat_minor": 5
}
